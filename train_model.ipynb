{
 "cells": [
  {
   "cell_type": "code",
   "execution_count": 1,
   "id": "36356e2f-278c-4145-bfb8-df40fff91dfe",
   "metadata": {
    "ExecuteTime": {
     "end_time": "2024-03-31T21:36:23.732671900Z",
     "start_time": "2024-03-31T21:36:20.344267300Z"
    }
   },
   "outputs": [],
   "source": [
    "import pandas as pd\n",
    "import torch\n",
    "import torch.nn as nn\n",
    "from sklearn.preprocessing import LabelEncoder\n",
    "from sklearn.model_selection import train_test_split\n",
    "from models.hand_gesture import Model"
   ]
  },
  {
   "cell_type": "code",
   "execution_count": 2,
   "id": "258cf187-295b-4a6b-acf4-357086774bd4",
   "metadata": {
    "ExecuteTime": {
     "end_time": "2024-03-31T21:36:23.761615300Z",
     "start_time": "2024-03-31T21:36:23.733668Z"
    }
   },
   "outputs": [],
   "source": [
    "df1 = pd.read_csv('data/dataframes/clenched_fist.csv')\n",
    "df2 = pd.read_csv('data/dataframes/index_finger_up.csv')\n",
    "df3 = pd.read_csv('data/dataframes/open_palm.csv')"
   ]
  },
  {
   "cell_type": "code",
   "execution_count": 3,
   "id": "74fc681f-d801-4a98-8dba-0d6fa1d6fd24",
   "metadata": {
    "ExecuteTime": {
     "end_time": "2024-03-31T21:36:23.767597300Z",
     "start_time": "2024-03-31T21:36:23.757848100Z"
    }
   },
   "outputs": [
    {
     "name": "stdout",
     "output_type": "stream",
     "text": [
      "451 1199 614\n"
     ]
    }
   ],
   "source": [
    "df1['gesture_class'] = 'clenched_fist'\n",
    "df2['gesture_class'] = 'index_finger_up'\n",
    "df3['gesture_class'] = 'open_palm'\n",
    "print(df1.shape[0], df2.shape[0], df3.shape[0])"
   ]
  },
  {
   "cell_type": "code",
   "execution_count": 4,
   "id": "bf936ed1-612e-4f0d-a885-ae947a4c4775",
   "metadata": {
    "ExecuteTime": {
     "end_time": "2024-03-31T21:36:23.788408600Z",
     "start_time": "2024-03-31T21:36:23.763607600Z"
    }
   },
   "outputs": [
    {
     "data": {
      "text/plain": "      landmark_0_x  landmark_0_y  landmark_1_x  landmark_1_y  landmark_2_x  \\\n0         0.677321           1.0      0.351103      0.944758      0.065477   \n1         0.714398           1.0      0.357280      0.879302      0.071006   \n2         0.767247           1.0      0.386727      0.874574      0.079074   \n3         0.803987           1.0      0.413708      0.879513      0.083829   \n4         0.845072           1.0      0.435118      0.901601      0.088391   \n...            ...           ...           ...           ...           ...   \n1348      0.543008           1.0      0.284017      0.908507      0.114434   \n1349      0.551161           1.0      0.303483      0.913989      0.133226   \n1350      0.585967           1.0      0.346693      0.920043      0.171611   \n1351      0.610128           1.0      0.370646      0.926402      0.188608   \n1352      0.626822           1.0      0.385707      0.935697      0.199436   \n\n      landmark_2_y  landmark_3_x  landmark_3_y  landmark_4_x  landmark_4_y  \\\n0         0.662819      0.000000      0.369198      0.173471      0.207245   \n1         0.622631      0.000000      0.343007      0.165565      0.192235   \n2         0.632229      0.000000      0.338501      0.168701      0.189050   \n3         0.624563      0.000000      0.319042      0.179483      0.174653   \n4         0.615791      0.000000      0.304183      0.182650      0.182214   \n...            ...           ...           ...           ...           ...   \n1348      0.726866      0.053204      0.572635      0.000000      0.458258   \n1349      0.739051      0.058131      0.596164      0.000000      0.490040   \n1350      0.749378      0.083096      0.610847      0.000000      0.519467   \n1351      0.766931      0.088400      0.635963      0.000000      0.553666   \n1352      0.781222      0.092664      0.656834      0.000000      0.576729   \n\n      ...  landmark_16_y  landmark_17_x  landmark_17_y  landmark_18_x  \\\n0     ...       0.569519       1.000000       0.341575       0.901456   \n1     ...       0.523319       1.000000       0.327002       0.930577   \n2     ...       0.531100       1.000000       0.322988       0.933531   \n3     ...       0.522814       1.000000       0.326457       0.952533   \n4     ...       0.525957       1.000000       0.331646       0.981047   \n...   ...            ...            ...            ...            ...   \n1348  ...       0.049344       0.797603       0.543644       0.893632   \n1349  ...       0.049143       0.795290       0.550834       0.888136   \n1350  ...       0.045094       0.800436       0.544714       0.890485   \n1351  ...       0.039981       0.811817       0.539930       0.898076   \n1352  ...       0.035304       0.812430       0.543293       0.898266   \n\n      landmark_18_y  landmark_19_x  landmark_19_y  landmark_20_x  \\\n0          0.073152       0.844643       0.298391       0.872950   \n1          0.059235       0.860362       0.240066       0.863497   \n2          0.072292       0.881563       0.279809       0.880636   \n3          0.095421       0.918450       0.299627       0.903720   \n4          0.112615       0.958200       0.323332       0.942268   \n...             ...            ...            ...            ...   \n1348       0.402177       0.951917       0.307308       1.000000   \n1349       0.406464       0.948918       0.310156       1.000000   \n1350       0.399362       0.949566       0.302400       1.000000   \n1351       0.392461       0.953084       0.295359       1.000000   \n1352       0.395522       0.953355       0.296455       1.000000   \n\n      landmark_20_y  gesture_class  \n0          0.445402  clenched_fist  \n1          0.390219  clenched_fist  \n2          0.425184  clenched_fist  \n3          0.430349  clenched_fist  \n4          0.448841  clenched_fist  \n...             ...            ...  \n1348       0.215190      open_palm  \n1349       0.216706      open_palm  \n1350       0.209538      open_palm  \n1351       0.201736      open_palm  \n1352       0.199456      open_palm  \n\n[1353 rows x 43 columns]",
      "text/html": "<div>\n<style scoped>\n    .dataframe tbody tr th:only-of-type {\n        vertical-align: middle;\n    }\n\n    .dataframe tbody tr th {\n        vertical-align: top;\n    }\n\n    .dataframe thead th {\n        text-align: right;\n    }\n</style>\n<table border=\"1\" class=\"dataframe\">\n  <thead>\n    <tr style=\"text-align: right;\">\n      <th></th>\n      <th>landmark_0_x</th>\n      <th>landmark_0_y</th>\n      <th>landmark_1_x</th>\n      <th>landmark_1_y</th>\n      <th>landmark_2_x</th>\n      <th>landmark_2_y</th>\n      <th>landmark_3_x</th>\n      <th>landmark_3_y</th>\n      <th>landmark_4_x</th>\n      <th>landmark_4_y</th>\n      <th>...</th>\n      <th>landmark_16_y</th>\n      <th>landmark_17_x</th>\n      <th>landmark_17_y</th>\n      <th>landmark_18_x</th>\n      <th>landmark_18_y</th>\n      <th>landmark_19_x</th>\n      <th>landmark_19_y</th>\n      <th>landmark_20_x</th>\n      <th>landmark_20_y</th>\n      <th>gesture_class</th>\n    </tr>\n  </thead>\n  <tbody>\n    <tr>\n      <th>0</th>\n      <td>0.677321</td>\n      <td>1.0</td>\n      <td>0.351103</td>\n      <td>0.944758</td>\n      <td>0.065477</td>\n      <td>0.662819</td>\n      <td>0.000000</td>\n      <td>0.369198</td>\n      <td>0.173471</td>\n      <td>0.207245</td>\n      <td>...</td>\n      <td>0.569519</td>\n      <td>1.000000</td>\n      <td>0.341575</td>\n      <td>0.901456</td>\n      <td>0.073152</td>\n      <td>0.844643</td>\n      <td>0.298391</td>\n      <td>0.872950</td>\n      <td>0.445402</td>\n      <td>clenched_fist</td>\n    </tr>\n    <tr>\n      <th>1</th>\n      <td>0.714398</td>\n      <td>1.0</td>\n      <td>0.357280</td>\n      <td>0.879302</td>\n      <td>0.071006</td>\n      <td>0.622631</td>\n      <td>0.000000</td>\n      <td>0.343007</td>\n      <td>0.165565</td>\n      <td>0.192235</td>\n      <td>...</td>\n      <td>0.523319</td>\n      <td>1.000000</td>\n      <td>0.327002</td>\n      <td>0.930577</td>\n      <td>0.059235</td>\n      <td>0.860362</td>\n      <td>0.240066</td>\n      <td>0.863497</td>\n      <td>0.390219</td>\n      <td>clenched_fist</td>\n    </tr>\n    <tr>\n      <th>2</th>\n      <td>0.767247</td>\n      <td>1.0</td>\n      <td>0.386727</td>\n      <td>0.874574</td>\n      <td>0.079074</td>\n      <td>0.632229</td>\n      <td>0.000000</td>\n      <td>0.338501</td>\n      <td>0.168701</td>\n      <td>0.189050</td>\n      <td>...</td>\n      <td>0.531100</td>\n      <td>1.000000</td>\n      <td>0.322988</td>\n      <td>0.933531</td>\n      <td>0.072292</td>\n      <td>0.881563</td>\n      <td>0.279809</td>\n      <td>0.880636</td>\n      <td>0.425184</td>\n      <td>clenched_fist</td>\n    </tr>\n    <tr>\n      <th>3</th>\n      <td>0.803987</td>\n      <td>1.0</td>\n      <td>0.413708</td>\n      <td>0.879513</td>\n      <td>0.083829</td>\n      <td>0.624563</td>\n      <td>0.000000</td>\n      <td>0.319042</td>\n      <td>0.179483</td>\n      <td>0.174653</td>\n      <td>...</td>\n      <td>0.522814</td>\n      <td>1.000000</td>\n      <td>0.326457</td>\n      <td>0.952533</td>\n      <td>0.095421</td>\n      <td>0.918450</td>\n      <td>0.299627</td>\n      <td>0.903720</td>\n      <td>0.430349</td>\n      <td>clenched_fist</td>\n    </tr>\n    <tr>\n      <th>4</th>\n      <td>0.845072</td>\n      <td>1.0</td>\n      <td>0.435118</td>\n      <td>0.901601</td>\n      <td>0.088391</td>\n      <td>0.615791</td>\n      <td>0.000000</td>\n      <td>0.304183</td>\n      <td>0.182650</td>\n      <td>0.182214</td>\n      <td>...</td>\n      <td>0.525957</td>\n      <td>1.000000</td>\n      <td>0.331646</td>\n      <td>0.981047</td>\n      <td>0.112615</td>\n      <td>0.958200</td>\n      <td>0.323332</td>\n      <td>0.942268</td>\n      <td>0.448841</td>\n      <td>clenched_fist</td>\n    </tr>\n    <tr>\n      <th>...</th>\n      <td>...</td>\n      <td>...</td>\n      <td>...</td>\n      <td>...</td>\n      <td>...</td>\n      <td>...</td>\n      <td>...</td>\n      <td>...</td>\n      <td>...</td>\n      <td>...</td>\n      <td>...</td>\n      <td>...</td>\n      <td>...</td>\n      <td>...</td>\n      <td>...</td>\n      <td>...</td>\n      <td>...</td>\n      <td>...</td>\n      <td>...</td>\n      <td>...</td>\n      <td>...</td>\n    </tr>\n    <tr>\n      <th>1348</th>\n      <td>0.543008</td>\n      <td>1.0</td>\n      <td>0.284017</td>\n      <td>0.908507</td>\n      <td>0.114434</td>\n      <td>0.726866</td>\n      <td>0.053204</td>\n      <td>0.572635</td>\n      <td>0.000000</td>\n      <td>0.458258</td>\n      <td>...</td>\n      <td>0.049344</td>\n      <td>0.797603</td>\n      <td>0.543644</td>\n      <td>0.893632</td>\n      <td>0.402177</td>\n      <td>0.951917</td>\n      <td>0.307308</td>\n      <td>1.000000</td>\n      <td>0.215190</td>\n      <td>open_palm</td>\n    </tr>\n    <tr>\n      <th>1349</th>\n      <td>0.551161</td>\n      <td>1.0</td>\n      <td>0.303483</td>\n      <td>0.913989</td>\n      <td>0.133226</td>\n      <td>0.739051</td>\n      <td>0.058131</td>\n      <td>0.596164</td>\n      <td>0.000000</td>\n      <td>0.490040</td>\n      <td>...</td>\n      <td>0.049143</td>\n      <td>0.795290</td>\n      <td>0.550834</td>\n      <td>0.888136</td>\n      <td>0.406464</td>\n      <td>0.948918</td>\n      <td>0.310156</td>\n      <td>1.000000</td>\n      <td>0.216706</td>\n      <td>open_palm</td>\n    </tr>\n    <tr>\n      <th>1350</th>\n      <td>0.585967</td>\n      <td>1.0</td>\n      <td>0.346693</td>\n      <td>0.920043</td>\n      <td>0.171611</td>\n      <td>0.749378</td>\n      <td>0.083096</td>\n      <td>0.610847</td>\n      <td>0.000000</td>\n      <td>0.519467</td>\n      <td>...</td>\n      <td>0.045094</td>\n      <td>0.800436</td>\n      <td>0.544714</td>\n      <td>0.890485</td>\n      <td>0.399362</td>\n      <td>0.949566</td>\n      <td>0.302400</td>\n      <td>1.000000</td>\n      <td>0.209538</td>\n      <td>open_palm</td>\n    </tr>\n    <tr>\n      <th>1351</th>\n      <td>0.610128</td>\n      <td>1.0</td>\n      <td>0.370646</td>\n      <td>0.926402</td>\n      <td>0.188608</td>\n      <td>0.766931</td>\n      <td>0.088400</td>\n      <td>0.635963</td>\n      <td>0.000000</td>\n      <td>0.553666</td>\n      <td>...</td>\n      <td>0.039981</td>\n      <td>0.811817</td>\n      <td>0.539930</td>\n      <td>0.898076</td>\n      <td>0.392461</td>\n      <td>0.953084</td>\n      <td>0.295359</td>\n      <td>1.000000</td>\n      <td>0.201736</td>\n      <td>open_palm</td>\n    </tr>\n    <tr>\n      <th>1352</th>\n      <td>0.626822</td>\n      <td>1.0</td>\n      <td>0.385707</td>\n      <td>0.935697</td>\n      <td>0.199436</td>\n      <td>0.781222</td>\n      <td>0.092664</td>\n      <td>0.656834</td>\n      <td>0.000000</td>\n      <td>0.576729</td>\n      <td>...</td>\n      <td>0.035304</td>\n      <td>0.812430</td>\n      <td>0.543293</td>\n      <td>0.898266</td>\n      <td>0.395522</td>\n      <td>0.953355</td>\n      <td>0.296455</td>\n      <td>1.000000</td>\n      <td>0.199456</td>\n      <td>open_palm</td>\n    </tr>\n  </tbody>\n</table>\n<p>1353 rows × 43 columns</p>\n</div>"
     },
     "execution_count": 4,
     "metadata": {},
     "output_type": "execute_result"
    }
   ],
   "source": [
    "sample_size = min(df1.shape[0], df2.shape[0], df3.shape[0])\n",
    "df = pd.concat([df1.iloc[:sample_size], df2.iloc[:sample_size], df3.iloc[:sample_size]], ignore_index=True)\n",
    "df"
   ]
  },
  {
   "cell_type": "code",
   "execution_count": 5,
   "id": "83f93b54-ef44-4081-930e-7ab1520a3d86",
   "metadata": {
    "ExecuteTime": {
     "end_time": "2024-03-31T21:36:23.820377900Z",
     "start_time": "2024-03-31T21:36:23.785416800Z"
    }
   },
   "outputs": [
    {
     "data": {
      "text/plain": "      landmark_0_x  landmark_0_y  landmark_1_x  landmark_1_y  landmark_2_x  \\\n0         0.677321           1.0      0.351103      0.944758      0.065477   \n1         0.714398           1.0      0.357280      0.879302      0.071006   \n2         0.767247           1.0      0.386727      0.874574      0.079074   \n3         0.803987           1.0      0.413708      0.879513      0.083829   \n4         0.845072           1.0      0.435118      0.901601      0.088391   \n...            ...           ...           ...           ...           ...   \n1348      0.543008           1.0      0.284017      0.908507      0.114434   \n1349      0.551161           1.0      0.303483      0.913989      0.133226   \n1350      0.585967           1.0      0.346693      0.920043      0.171611   \n1351      0.610128           1.0      0.370646      0.926402      0.188608   \n1352      0.626822           1.0      0.385707      0.935697      0.199436   \n\n      landmark_2_y  landmark_3_x  landmark_3_y  landmark_4_x  landmark_4_y  \\\n0         0.662819      0.000000      0.369198      0.173471      0.207245   \n1         0.622631      0.000000      0.343007      0.165565      0.192235   \n2         0.632229      0.000000      0.338501      0.168701      0.189050   \n3         0.624563      0.000000      0.319042      0.179483      0.174653   \n4         0.615791      0.000000      0.304183      0.182650      0.182214   \n...            ...           ...           ...           ...           ...   \n1348      0.726866      0.053204      0.572635      0.000000      0.458258   \n1349      0.739051      0.058131      0.596164      0.000000      0.490040   \n1350      0.749378      0.083096      0.610847      0.000000      0.519467   \n1351      0.766931      0.088400      0.635963      0.000000      0.553666   \n1352      0.781222      0.092664      0.656834      0.000000      0.576729   \n\n      ...  landmark_17_x  landmark_17_y  landmark_18_x  landmark_18_y  \\\n0     ...       1.000000       0.341575       0.901456       0.073152   \n1     ...       1.000000       0.327002       0.930577       0.059235   \n2     ...       1.000000       0.322988       0.933531       0.072292   \n3     ...       1.000000       0.326457       0.952533       0.095421   \n4     ...       1.000000       0.331646       0.981047       0.112615   \n...   ...            ...            ...            ...            ...   \n1348  ...       0.797603       0.543644       0.893632       0.402177   \n1349  ...       0.795290       0.550834       0.888136       0.406464   \n1350  ...       0.800436       0.544714       0.890485       0.399362   \n1351  ...       0.811817       0.539930       0.898076       0.392461   \n1352  ...       0.812430       0.543293       0.898266       0.395522   \n\n      landmark_19_x  landmark_19_y  landmark_20_x  landmark_20_y  \\\n0          0.844643       0.298391       0.872950       0.445402   \n1          0.860362       0.240066       0.863497       0.390219   \n2          0.881563       0.279809       0.880636       0.425184   \n3          0.918450       0.299627       0.903720       0.430349   \n4          0.958200       0.323332       0.942268       0.448841   \n...             ...            ...            ...            ...   \n1348       0.951917       0.307308       1.000000       0.215190   \n1349       0.948918       0.310156       1.000000       0.216706   \n1350       0.949566       0.302400       1.000000       0.209538   \n1351       0.953084       0.295359       1.000000       0.201736   \n1352       0.953355       0.296455       1.000000       0.199456   \n\n      gesture_class  gesture  \n0     clenched_fist        0  \n1     clenched_fist        0  \n2     clenched_fist        0  \n3     clenched_fist        0  \n4     clenched_fist        0  \n...             ...      ...  \n1348      open_palm        2  \n1349      open_palm        2  \n1350      open_palm        2  \n1351      open_palm        2  \n1352      open_palm        2  \n\n[1353 rows x 44 columns]",
      "text/html": "<div>\n<style scoped>\n    .dataframe tbody tr th:only-of-type {\n        vertical-align: middle;\n    }\n\n    .dataframe tbody tr th {\n        vertical-align: top;\n    }\n\n    .dataframe thead th {\n        text-align: right;\n    }\n</style>\n<table border=\"1\" class=\"dataframe\">\n  <thead>\n    <tr style=\"text-align: right;\">\n      <th></th>\n      <th>landmark_0_x</th>\n      <th>landmark_0_y</th>\n      <th>landmark_1_x</th>\n      <th>landmark_1_y</th>\n      <th>landmark_2_x</th>\n      <th>landmark_2_y</th>\n      <th>landmark_3_x</th>\n      <th>landmark_3_y</th>\n      <th>landmark_4_x</th>\n      <th>landmark_4_y</th>\n      <th>...</th>\n      <th>landmark_17_x</th>\n      <th>landmark_17_y</th>\n      <th>landmark_18_x</th>\n      <th>landmark_18_y</th>\n      <th>landmark_19_x</th>\n      <th>landmark_19_y</th>\n      <th>landmark_20_x</th>\n      <th>landmark_20_y</th>\n      <th>gesture_class</th>\n      <th>gesture</th>\n    </tr>\n  </thead>\n  <tbody>\n    <tr>\n      <th>0</th>\n      <td>0.677321</td>\n      <td>1.0</td>\n      <td>0.351103</td>\n      <td>0.944758</td>\n      <td>0.065477</td>\n      <td>0.662819</td>\n      <td>0.000000</td>\n      <td>0.369198</td>\n      <td>0.173471</td>\n      <td>0.207245</td>\n      <td>...</td>\n      <td>1.000000</td>\n      <td>0.341575</td>\n      <td>0.901456</td>\n      <td>0.073152</td>\n      <td>0.844643</td>\n      <td>0.298391</td>\n      <td>0.872950</td>\n      <td>0.445402</td>\n      <td>clenched_fist</td>\n      <td>0</td>\n    </tr>\n    <tr>\n      <th>1</th>\n      <td>0.714398</td>\n      <td>1.0</td>\n      <td>0.357280</td>\n      <td>0.879302</td>\n      <td>0.071006</td>\n      <td>0.622631</td>\n      <td>0.000000</td>\n      <td>0.343007</td>\n      <td>0.165565</td>\n      <td>0.192235</td>\n      <td>...</td>\n      <td>1.000000</td>\n      <td>0.327002</td>\n      <td>0.930577</td>\n      <td>0.059235</td>\n      <td>0.860362</td>\n      <td>0.240066</td>\n      <td>0.863497</td>\n      <td>0.390219</td>\n      <td>clenched_fist</td>\n      <td>0</td>\n    </tr>\n    <tr>\n      <th>2</th>\n      <td>0.767247</td>\n      <td>1.0</td>\n      <td>0.386727</td>\n      <td>0.874574</td>\n      <td>0.079074</td>\n      <td>0.632229</td>\n      <td>0.000000</td>\n      <td>0.338501</td>\n      <td>0.168701</td>\n      <td>0.189050</td>\n      <td>...</td>\n      <td>1.000000</td>\n      <td>0.322988</td>\n      <td>0.933531</td>\n      <td>0.072292</td>\n      <td>0.881563</td>\n      <td>0.279809</td>\n      <td>0.880636</td>\n      <td>0.425184</td>\n      <td>clenched_fist</td>\n      <td>0</td>\n    </tr>\n    <tr>\n      <th>3</th>\n      <td>0.803987</td>\n      <td>1.0</td>\n      <td>0.413708</td>\n      <td>0.879513</td>\n      <td>0.083829</td>\n      <td>0.624563</td>\n      <td>0.000000</td>\n      <td>0.319042</td>\n      <td>0.179483</td>\n      <td>0.174653</td>\n      <td>...</td>\n      <td>1.000000</td>\n      <td>0.326457</td>\n      <td>0.952533</td>\n      <td>0.095421</td>\n      <td>0.918450</td>\n      <td>0.299627</td>\n      <td>0.903720</td>\n      <td>0.430349</td>\n      <td>clenched_fist</td>\n      <td>0</td>\n    </tr>\n    <tr>\n      <th>4</th>\n      <td>0.845072</td>\n      <td>1.0</td>\n      <td>0.435118</td>\n      <td>0.901601</td>\n      <td>0.088391</td>\n      <td>0.615791</td>\n      <td>0.000000</td>\n      <td>0.304183</td>\n      <td>0.182650</td>\n      <td>0.182214</td>\n      <td>...</td>\n      <td>1.000000</td>\n      <td>0.331646</td>\n      <td>0.981047</td>\n      <td>0.112615</td>\n      <td>0.958200</td>\n      <td>0.323332</td>\n      <td>0.942268</td>\n      <td>0.448841</td>\n      <td>clenched_fist</td>\n      <td>0</td>\n    </tr>\n    <tr>\n      <th>...</th>\n      <td>...</td>\n      <td>...</td>\n      <td>...</td>\n      <td>...</td>\n      <td>...</td>\n      <td>...</td>\n      <td>...</td>\n      <td>...</td>\n      <td>...</td>\n      <td>...</td>\n      <td>...</td>\n      <td>...</td>\n      <td>...</td>\n      <td>...</td>\n      <td>...</td>\n      <td>...</td>\n      <td>...</td>\n      <td>...</td>\n      <td>...</td>\n      <td>...</td>\n      <td>...</td>\n    </tr>\n    <tr>\n      <th>1348</th>\n      <td>0.543008</td>\n      <td>1.0</td>\n      <td>0.284017</td>\n      <td>0.908507</td>\n      <td>0.114434</td>\n      <td>0.726866</td>\n      <td>0.053204</td>\n      <td>0.572635</td>\n      <td>0.000000</td>\n      <td>0.458258</td>\n      <td>...</td>\n      <td>0.797603</td>\n      <td>0.543644</td>\n      <td>0.893632</td>\n      <td>0.402177</td>\n      <td>0.951917</td>\n      <td>0.307308</td>\n      <td>1.000000</td>\n      <td>0.215190</td>\n      <td>open_palm</td>\n      <td>2</td>\n    </tr>\n    <tr>\n      <th>1349</th>\n      <td>0.551161</td>\n      <td>1.0</td>\n      <td>0.303483</td>\n      <td>0.913989</td>\n      <td>0.133226</td>\n      <td>0.739051</td>\n      <td>0.058131</td>\n      <td>0.596164</td>\n      <td>0.000000</td>\n      <td>0.490040</td>\n      <td>...</td>\n      <td>0.795290</td>\n      <td>0.550834</td>\n      <td>0.888136</td>\n      <td>0.406464</td>\n      <td>0.948918</td>\n      <td>0.310156</td>\n      <td>1.000000</td>\n      <td>0.216706</td>\n      <td>open_palm</td>\n      <td>2</td>\n    </tr>\n    <tr>\n      <th>1350</th>\n      <td>0.585967</td>\n      <td>1.0</td>\n      <td>0.346693</td>\n      <td>0.920043</td>\n      <td>0.171611</td>\n      <td>0.749378</td>\n      <td>0.083096</td>\n      <td>0.610847</td>\n      <td>0.000000</td>\n      <td>0.519467</td>\n      <td>...</td>\n      <td>0.800436</td>\n      <td>0.544714</td>\n      <td>0.890485</td>\n      <td>0.399362</td>\n      <td>0.949566</td>\n      <td>0.302400</td>\n      <td>1.000000</td>\n      <td>0.209538</td>\n      <td>open_palm</td>\n      <td>2</td>\n    </tr>\n    <tr>\n      <th>1351</th>\n      <td>0.610128</td>\n      <td>1.0</td>\n      <td>0.370646</td>\n      <td>0.926402</td>\n      <td>0.188608</td>\n      <td>0.766931</td>\n      <td>0.088400</td>\n      <td>0.635963</td>\n      <td>0.000000</td>\n      <td>0.553666</td>\n      <td>...</td>\n      <td>0.811817</td>\n      <td>0.539930</td>\n      <td>0.898076</td>\n      <td>0.392461</td>\n      <td>0.953084</td>\n      <td>0.295359</td>\n      <td>1.000000</td>\n      <td>0.201736</td>\n      <td>open_palm</td>\n      <td>2</td>\n    </tr>\n    <tr>\n      <th>1352</th>\n      <td>0.626822</td>\n      <td>1.0</td>\n      <td>0.385707</td>\n      <td>0.935697</td>\n      <td>0.199436</td>\n      <td>0.781222</td>\n      <td>0.092664</td>\n      <td>0.656834</td>\n      <td>0.000000</td>\n      <td>0.576729</td>\n      <td>...</td>\n      <td>0.812430</td>\n      <td>0.543293</td>\n      <td>0.898266</td>\n      <td>0.395522</td>\n      <td>0.953355</td>\n      <td>0.296455</td>\n      <td>1.000000</td>\n      <td>0.199456</td>\n      <td>open_palm</td>\n      <td>2</td>\n    </tr>\n  </tbody>\n</table>\n<p>1353 rows × 44 columns</p>\n</div>"
     },
     "execution_count": 5,
     "metadata": {},
     "output_type": "execute_result"
    }
   ],
   "source": [
    "label_encoder = LabelEncoder()\n",
    "df['gesture'] = label_encoder.fit_transform(df['gesture_class'])\n",
    "df"
   ]
  },
  {
   "cell_type": "code",
   "execution_count": 6,
   "id": "b35b037c-9f35-4ec6-98bd-430cd680a725",
   "metadata": {
    "ExecuteTime": {
     "end_time": "2024-03-31T21:36:23.820377900Z",
     "start_time": "2024-03-31T21:36:23.803572900Z"
    }
   },
   "outputs": [],
   "source": [
    "X, y = df.iloc[:, : -1], df.iloc[:, -1]\n",
    "X.drop(columns=['gesture_class'], inplace=True)\n",
    "X_train, X_test, y_train, y_test = train_test_split(X, y, train_size=0.85, stratify=y, shuffle=True)"
   ]
  },
  {
   "cell_type": "code",
   "execution_count": 7,
   "id": "be9b9024-7132-41ab-9d81-676cacf43600",
   "metadata": {
    "ExecuteTime": {
     "end_time": "2024-03-31T21:36:23.855398900Z",
     "start_time": "2024-03-31T21:36:23.809407Z"
    }
   },
   "outputs": [
    {
     "data": {
      "text/plain": "      landmark_0_x  landmark_0_y  landmark_1_x  landmark_1_y  landmark_2_x  \\\n111       0.825981           1.0      0.416533      0.829483      0.110794   \n124       0.720827           1.0      0.374737      0.834666      0.100504   \n154       0.839743           1.0      0.451497      0.864185      0.141986   \n1045      0.612867           1.0      0.389577      0.919845      0.210981   \n1107      0.601407           1.0      0.396141      0.922197      0.220659   \n...            ...           ...           ...           ...           ...   \n542       0.605808           1.0      0.226700      0.870818      0.063383   \n709       0.683380           1.0      0.290557      0.869041      0.032118   \n859       0.739143           1.0      0.376533      0.867777      0.172068   \n487       0.627942           1.0      0.271836      0.869869      0.080002   \n1179      0.570808           1.0      0.369152      0.927259      0.191427   \n\n      landmark_2_y  landmark_3_x  landmark_3_y  landmark_4_x  landmark_4_y  \\\n111       0.584899      0.000000      0.297016      0.154471      0.136190   \n124       0.563134      0.000000      0.297281      0.160771      0.144775   \n154       0.649124      0.000000      0.424364      0.119634      0.250895   \n1045      0.780128      0.096355      0.670212      0.000000      0.610614   \n1107      0.789558      0.100365      0.684379      0.000000      0.617666   \n...            ...           ...           ...           ...           ...   \n542       0.678117      0.138183      0.488690      0.392737      0.387915   \n709       0.656653      0.000000      0.474562      0.255664      0.396061   \n859       0.659515      0.226964      0.463137      0.432965      0.345256   \n487       0.671914      0.230052      0.495949      0.525736      0.396711   \n1179      0.788631      0.084239      0.660460      0.000000      0.565965   \n\n      ...  landmark_16_x  landmark_16_y  landmark_17_x  landmark_17_y  \\\n111   ...       0.728835       0.555423       1.000000       0.330746   \n124   ...       0.700300       0.518536       1.000000       0.342796   \n154   ...       0.653118       0.402884       1.000000       0.322464   \n1045  ...       0.734738       0.036837       0.792576       0.538617   \n1107  ...       0.734337       0.056737       0.791887       0.552886   \n...   ...            ...            ...            ...            ...   \n542   ...       0.611804       0.648364       1.000000       0.607035   \n709   ...       0.515772       0.663191       1.000000       0.565652   \n859   ...       0.647349       0.638720       1.000000       0.575180   \n487   ...       0.624712       0.655789       1.000000       0.611892   \n1179  ...       0.725218       0.066809       0.772245       0.569002   \n\n      landmark_18_x  landmark_18_y  landmark_19_x  landmark_19_y  \\\n111        0.900550       0.116861       0.867764       0.328061   \n124        0.930985       0.121863       0.872960       0.325618   \n154        0.948060       0.062225       0.837370       0.140493   \n1045       0.887462       0.388809       0.947691       0.290957   \n1107       0.884357       0.412619       0.945841       0.320818   \n...             ...            ...            ...            ...   \n542        0.968948       0.523737       0.832649       0.634303   \n709        0.678762       0.455922       0.552355       0.581536   \n859        0.933746       0.475913       0.829526       0.592915   \n487        0.997377       0.521706       0.864677       0.635261   \n1179       0.875208       0.436252       0.942607       0.343041   \n\n      landmark_20_x  landmark_20_y  \n111        0.888018       0.473031  \n124        0.877726       0.460929  \n154        0.803092       0.280601  \n1045       1.000000       0.201115  \n1107       1.000000       0.237662  \n...             ...            ...  \n542        0.839300       0.669854  \n709        0.657267       0.653986  \n859        0.854737       0.636719  \n487        0.850989       0.678547  \n1179       1.000000       0.257437  \n\n[1150 rows x 42 columns]",
      "text/html": "<div>\n<style scoped>\n    .dataframe tbody tr th:only-of-type {\n        vertical-align: middle;\n    }\n\n    .dataframe tbody tr th {\n        vertical-align: top;\n    }\n\n    .dataframe thead th {\n        text-align: right;\n    }\n</style>\n<table border=\"1\" class=\"dataframe\">\n  <thead>\n    <tr style=\"text-align: right;\">\n      <th></th>\n      <th>landmark_0_x</th>\n      <th>landmark_0_y</th>\n      <th>landmark_1_x</th>\n      <th>landmark_1_y</th>\n      <th>landmark_2_x</th>\n      <th>landmark_2_y</th>\n      <th>landmark_3_x</th>\n      <th>landmark_3_y</th>\n      <th>landmark_4_x</th>\n      <th>landmark_4_y</th>\n      <th>...</th>\n      <th>landmark_16_x</th>\n      <th>landmark_16_y</th>\n      <th>landmark_17_x</th>\n      <th>landmark_17_y</th>\n      <th>landmark_18_x</th>\n      <th>landmark_18_y</th>\n      <th>landmark_19_x</th>\n      <th>landmark_19_y</th>\n      <th>landmark_20_x</th>\n      <th>landmark_20_y</th>\n    </tr>\n  </thead>\n  <tbody>\n    <tr>\n      <th>111</th>\n      <td>0.825981</td>\n      <td>1.0</td>\n      <td>0.416533</td>\n      <td>0.829483</td>\n      <td>0.110794</td>\n      <td>0.584899</td>\n      <td>0.000000</td>\n      <td>0.297016</td>\n      <td>0.154471</td>\n      <td>0.136190</td>\n      <td>...</td>\n      <td>0.728835</td>\n      <td>0.555423</td>\n      <td>1.000000</td>\n      <td>0.330746</td>\n      <td>0.900550</td>\n      <td>0.116861</td>\n      <td>0.867764</td>\n      <td>0.328061</td>\n      <td>0.888018</td>\n      <td>0.473031</td>\n    </tr>\n    <tr>\n      <th>124</th>\n      <td>0.720827</td>\n      <td>1.0</td>\n      <td>0.374737</td>\n      <td>0.834666</td>\n      <td>0.100504</td>\n      <td>0.563134</td>\n      <td>0.000000</td>\n      <td>0.297281</td>\n      <td>0.160771</td>\n      <td>0.144775</td>\n      <td>...</td>\n      <td>0.700300</td>\n      <td>0.518536</td>\n      <td>1.000000</td>\n      <td>0.342796</td>\n      <td>0.930985</td>\n      <td>0.121863</td>\n      <td>0.872960</td>\n      <td>0.325618</td>\n      <td>0.877726</td>\n      <td>0.460929</td>\n    </tr>\n    <tr>\n      <th>154</th>\n      <td>0.839743</td>\n      <td>1.0</td>\n      <td>0.451497</td>\n      <td>0.864185</td>\n      <td>0.141986</td>\n      <td>0.649124</td>\n      <td>0.000000</td>\n      <td>0.424364</td>\n      <td>0.119634</td>\n      <td>0.250895</td>\n      <td>...</td>\n      <td>0.653118</td>\n      <td>0.402884</td>\n      <td>1.000000</td>\n      <td>0.322464</td>\n      <td>0.948060</td>\n      <td>0.062225</td>\n      <td>0.837370</td>\n      <td>0.140493</td>\n      <td>0.803092</td>\n      <td>0.280601</td>\n    </tr>\n    <tr>\n      <th>1045</th>\n      <td>0.612867</td>\n      <td>1.0</td>\n      <td>0.389577</td>\n      <td>0.919845</td>\n      <td>0.210981</td>\n      <td>0.780128</td>\n      <td>0.096355</td>\n      <td>0.670212</td>\n      <td>0.000000</td>\n      <td>0.610614</td>\n      <td>...</td>\n      <td>0.734738</td>\n      <td>0.036837</td>\n      <td>0.792576</td>\n      <td>0.538617</td>\n      <td>0.887462</td>\n      <td>0.388809</td>\n      <td>0.947691</td>\n      <td>0.290957</td>\n      <td>1.000000</td>\n      <td>0.201115</td>\n    </tr>\n    <tr>\n      <th>1107</th>\n      <td>0.601407</td>\n      <td>1.0</td>\n      <td>0.396141</td>\n      <td>0.922197</td>\n      <td>0.220659</td>\n      <td>0.789558</td>\n      <td>0.100365</td>\n      <td>0.684379</td>\n      <td>0.000000</td>\n      <td>0.617666</td>\n      <td>...</td>\n      <td>0.734337</td>\n      <td>0.056737</td>\n      <td>0.791887</td>\n      <td>0.552886</td>\n      <td>0.884357</td>\n      <td>0.412619</td>\n      <td>0.945841</td>\n      <td>0.320818</td>\n      <td>1.000000</td>\n      <td>0.237662</td>\n    </tr>\n    <tr>\n      <th>...</th>\n      <td>...</td>\n      <td>...</td>\n      <td>...</td>\n      <td>...</td>\n      <td>...</td>\n      <td>...</td>\n      <td>...</td>\n      <td>...</td>\n      <td>...</td>\n      <td>...</td>\n      <td>...</td>\n      <td>...</td>\n      <td>...</td>\n      <td>...</td>\n      <td>...</td>\n      <td>...</td>\n      <td>...</td>\n      <td>...</td>\n      <td>...</td>\n      <td>...</td>\n      <td>...</td>\n    </tr>\n    <tr>\n      <th>542</th>\n      <td>0.605808</td>\n      <td>1.0</td>\n      <td>0.226700</td>\n      <td>0.870818</td>\n      <td>0.063383</td>\n      <td>0.678117</td>\n      <td>0.138183</td>\n      <td>0.488690</td>\n      <td>0.392737</td>\n      <td>0.387915</td>\n      <td>...</td>\n      <td>0.611804</td>\n      <td>0.648364</td>\n      <td>1.000000</td>\n      <td>0.607035</td>\n      <td>0.968948</td>\n      <td>0.523737</td>\n      <td>0.832649</td>\n      <td>0.634303</td>\n      <td>0.839300</td>\n      <td>0.669854</td>\n    </tr>\n    <tr>\n      <th>709</th>\n      <td>0.683380</td>\n      <td>1.0</td>\n      <td>0.290557</td>\n      <td>0.869041</td>\n      <td>0.032118</td>\n      <td>0.656653</td>\n      <td>0.000000</td>\n      <td>0.474562</td>\n      <td>0.255664</td>\n      <td>0.396061</td>\n      <td>...</td>\n      <td>0.515772</td>\n      <td>0.663191</td>\n      <td>1.000000</td>\n      <td>0.565652</td>\n      <td>0.678762</td>\n      <td>0.455922</td>\n      <td>0.552355</td>\n      <td>0.581536</td>\n      <td>0.657267</td>\n      <td>0.653986</td>\n    </tr>\n    <tr>\n      <th>859</th>\n      <td>0.739143</td>\n      <td>1.0</td>\n      <td>0.376533</td>\n      <td>0.867777</td>\n      <td>0.172068</td>\n      <td>0.659515</td>\n      <td>0.226964</td>\n      <td>0.463137</td>\n      <td>0.432965</td>\n      <td>0.345256</td>\n      <td>...</td>\n      <td>0.647349</td>\n      <td>0.638720</td>\n      <td>1.000000</td>\n      <td>0.575180</td>\n      <td>0.933746</td>\n      <td>0.475913</td>\n      <td>0.829526</td>\n      <td>0.592915</td>\n      <td>0.854737</td>\n      <td>0.636719</td>\n    </tr>\n    <tr>\n      <th>487</th>\n      <td>0.627942</td>\n      <td>1.0</td>\n      <td>0.271836</td>\n      <td>0.869869</td>\n      <td>0.080002</td>\n      <td>0.671914</td>\n      <td>0.230052</td>\n      <td>0.495949</td>\n      <td>0.525736</td>\n      <td>0.396711</td>\n      <td>...</td>\n      <td>0.624712</td>\n      <td>0.655789</td>\n      <td>1.000000</td>\n      <td>0.611892</td>\n      <td>0.997377</td>\n      <td>0.521706</td>\n      <td>0.864677</td>\n      <td>0.635261</td>\n      <td>0.850989</td>\n      <td>0.678547</td>\n    </tr>\n    <tr>\n      <th>1179</th>\n      <td>0.570808</td>\n      <td>1.0</td>\n      <td>0.369152</td>\n      <td>0.927259</td>\n      <td>0.191427</td>\n      <td>0.788631</td>\n      <td>0.084239</td>\n      <td>0.660460</td>\n      <td>0.000000</td>\n      <td>0.565965</td>\n      <td>...</td>\n      <td>0.725218</td>\n      <td>0.066809</td>\n      <td>0.772245</td>\n      <td>0.569002</td>\n      <td>0.875208</td>\n      <td>0.436252</td>\n      <td>0.942607</td>\n      <td>0.343041</td>\n      <td>1.000000</td>\n      <td>0.257437</td>\n    </tr>\n  </tbody>\n</table>\n<p>1150 rows × 42 columns</p>\n</div>"
     },
     "execution_count": 7,
     "metadata": {},
     "output_type": "execute_result"
    }
   ],
   "source": [
    "X_train"
   ]
  },
  {
   "cell_type": "code",
   "execution_count": 8,
   "id": "be3bf652-0de5-4c8a-aaa8-9a464e715d23",
   "metadata": {
    "ExecuteTime": {
     "end_time": "2024-03-31T21:36:23.912344800Z",
     "start_time": "2024-03-31T21:36:23.859388800Z"
    }
   },
   "outputs": [
    {
     "data": {
      "text/plain": "device(type='cuda')"
     },
     "execution_count": 8,
     "metadata": {},
     "output_type": "execute_result"
    }
   ],
   "source": [
    "device = torch.device(\"cuda\" if torch.cuda.is_available() else \"cpu\")\n",
    "device"
   ]
  },
  {
   "cell_type": "code",
   "execution_count": 9,
   "id": "94c932c2-8988-468b-9b06-3436286708b2",
   "metadata": {
    "ExecuteTime": {
     "end_time": "2024-03-31T21:36:25.837814200Z",
     "start_time": "2024-03-31T21:36:23.864473300Z"
    }
   },
   "outputs": [],
   "source": [
    "X_train_torch = torch.Tensor(X_train.to_numpy()).type(torch.float).to(device)\n",
    "X_test_torch = torch.Tensor(X_test.to_numpy()).type(torch.float).to(device)\n",
    "y_train_torch = torch.Tensor(y_train.to_numpy()).type(torch.uint8).to(device)\n",
    "y_test_torch = torch.Tensor(y_test.to_numpy()).type(torch.uint8).to(device)"
   ]
  },
  {
   "cell_type": "code",
   "execution_count": 10,
   "id": "f619d294-4ad5-4fee-a2cf-bf12a7e8406b",
   "metadata": {
    "ExecuteTime": {
     "end_time": "2024-03-31T21:36:27.546523700Z",
     "start_time": "2024-03-31T21:36:25.838812Z"
    }
   },
   "outputs": [
    {
     "name": "stdout",
     "output_type": "stream",
     "text": [
      "epoch = 1/100\n",
      "loss = 1.104\n",
      "accuracy = 60.099\n",
      "\n",
      "epoch = 11/100\n",
      "loss = 0.996\n",
      "accuracy = 100.000\n",
      "\n",
      "epoch = 21/100\n",
      "loss = 0.821\n",
      "accuracy = 100.000\n",
      "\n",
      "epoch = 31/100\n",
      "loss = 0.676\n",
      "accuracy = 99.015\n",
      "\n",
      "epoch = 41/100\n",
      "loss = 0.608\n",
      "accuracy = 99.507\n",
      "\n",
      "epoch = 51/100\n",
      "loss = 0.580\n",
      "accuracy = 100.000\n",
      "\n",
      "epoch = 61/100\n",
      "loss = 0.568\n",
      "accuracy = 100.000\n",
      "\n",
      "epoch = 71/100\n",
      "loss = 0.562\n",
      "accuracy = 100.000\n",
      "\n",
      "epoch = 81/100\n",
      "loss = 0.559\n",
      "accuracy = 100.000\n",
      "\n",
      "epoch = 91/100\n",
      "loss = 0.558\n",
      "accuracy = 100.000\n"
     ]
    }
   ],
   "source": [
    "epochs = 100\n",
    "learning_rate = 0.01\n",
    "model = Model(42, 20, 3).to(device)\n",
    "criterion = nn.CrossEntropyLoss()\n",
    "optimizer = torch.optim.Adam(model.parameters(), lr=learning_rate)\n",
    "\n",
    "for i in range(epochs):\n",
    "    pred = model(X_train_torch)\n",
    "    loss = criterion(pred, y_train_torch)\n",
    "\n",
    "    optimizer.zero_grad()\n",
    "    loss.backward()\n",
    "    optimizer.step()\n",
    "    if (i % 10 == 0):\n",
    "        with torch.no_grad():\n",
    "            pred = model(X_test_torch)\n",
    "            pred = torch.argmax(pred, dim=1)\n",
    "            acc = ((pred == y_test_torch).sum().item() / y_test_torch.shape[0]) * 100\n",
    "            print(f'epoch = {i + 1}/{epochs}')\n",
    "            print(f'loss = {loss.item():.3f}')\n",
    "            print(f'accuracy = {acc:.3f}', end=2 * '\\n')"
   ]
  },
  {
   "cell_type": "code",
   "execution_count": 14,
   "id": "00e20ea2-a765-412d-9b2f-8b95f3b5fe0e",
   "metadata": {
    "ExecuteTime": {
     "end_time": "2024-03-31T21:38:55.495409900Z",
     "start_time": "2024-03-31T21:38:55.491901400Z"
    }
   },
   "outputs": [],
   "source": [
    "# save model\n",
    "FILE_PATH = 'models/hand_gesture_model.pth'\n",
    "torch.save(model.state_dict(), FILE_PATH)"
   ]
  }
 ],
 "metadata": {
  "kernelspec": {
   "display_name": "Python 3 (ipykernel)",
   "language": "python",
   "name": "python3"
  },
  "language_info": {
   "codemirror_mode": {
    "name": "ipython",
    "version": 3
   },
   "file_extension": ".py",
   "mimetype": "text/x-python",
   "name": "python",
   "nbconvert_exporter": "python",
   "pygments_lexer": "ipython3",
   "version": "3.11.5"
  }
 },
 "nbformat": 4,
 "nbformat_minor": 5
}
