{
 "cells": [
  {
   "cell_type": "code",
   "execution_count": 1,
   "id": "36356e2f-278c-4145-bfb8-df40fff91dfe",
   "metadata": {
    "ExecuteTime": {
     "end_time": "2024-03-31T23:36:59.193497200Z",
     "start_time": "2024-03-31T23:36:57.078840900Z"
    }
   },
   "outputs": [],
   "source": [
    "import pandas as pd\n",
    "import torch\n",
    "import torch.nn as nn\n",
    "from sklearn.model_selection import train_test_split\n",
    "from models.hand_gesture import Model\n",
    "from models.hand_gesture import STRING_TO_CODE"
   ]
  },
  {
   "cell_type": "code",
   "execution_count": 2,
   "id": "258cf187-295b-4a6b-acf4-357086774bd4",
   "metadata": {
    "ExecuteTime": {
     "end_time": "2024-03-31T23:36:59.221017300Z",
     "start_time": "2024-03-31T23:36:59.195492500Z"
    }
   },
   "outputs": [],
   "source": [
    "df1 = pd.read_csv('data/dataframes/clenched_fist.csv')\n",
    "df2 = pd.read_csv('data/dataframes/index_finger_up.csv')\n",
    "df3 = pd.read_csv('data/dataframes/open_palm.csv')"
   ]
  },
  {
   "cell_type": "code",
   "execution_count": 3,
   "id": "74fc681f-d801-4a98-8dba-0d6fa1d6fd24",
   "metadata": {
    "ExecuteTime": {
     "end_time": "2024-03-31T23:36:59.225010200Z",
     "start_time": "2024-03-31T23:36:59.222015600Z"
    }
   },
   "outputs": [
    {
     "name": "stdout",
     "output_type": "stream",
     "text": [
      "451 1199 614\n"
     ]
    }
   ],
   "source": [
    "df1['gesture_class'] = 'clenched_fist'\n",
    "df2['gesture_class'] = 'index_finger_up'\n",
    "df3['gesture_class'] = 'open_palm'\n",
    "print(df1.shape[0], df2.shape[0], df3.shape[0])"
   ]
  },
  {
   "cell_type": "code",
   "execution_count": 4,
   "id": "bf936ed1-612e-4f0d-a885-ae947a4c4775",
   "metadata": {
    "ExecuteTime": {
     "end_time": "2024-03-31T23:36:59.252062700Z",
     "start_time": "2024-03-31T23:36:59.227004500Z"
    }
   },
   "outputs": [
    {
     "data": {
      "text/plain": "      landmark_0_x  landmark_0_y  landmark_1_x  landmark_1_y  landmark_2_x  \\\n0         0.677321           1.0      0.351103      0.944758      0.065477   \n1         0.714398           1.0      0.357280      0.879302      0.071006   \n2         0.767247           1.0      0.386727      0.874574      0.079074   \n3         0.803987           1.0      0.413708      0.879513      0.083829   \n4         0.845072           1.0      0.435118      0.901601      0.088391   \n...            ...           ...           ...           ...           ...   \n1348      0.543008           1.0      0.284017      0.908507      0.114434   \n1349      0.551161           1.0      0.303483      0.913989      0.133226   \n1350      0.585967           1.0      0.346693      0.920043      0.171611   \n1351      0.610128           1.0      0.370646      0.926402      0.188608   \n1352      0.626822           1.0      0.385707      0.935697      0.199436   \n\n      landmark_2_y  landmark_3_x  landmark_3_y  landmark_4_x  landmark_4_y  \\\n0         0.662819      0.000000      0.369198      0.173471      0.207245   \n1         0.622631      0.000000      0.343007      0.165565      0.192235   \n2         0.632229      0.000000      0.338501      0.168701      0.189050   \n3         0.624563      0.000000      0.319042      0.179483      0.174653   \n4         0.615791      0.000000      0.304183      0.182650      0.182214   \n...            ...           ...           ...           ...           ...   \n1348      0.726866      0.053204      0.572635      0.000000      0.458258   \n1349      0.739051      0.058131      0.596164      0.000000      0.490040   \n1350      0.749378      0.083096      0.610847      0.000000      0.519467   \n1351      0.766931      0.088400      0.635963      0.000000      0.553666   \n1352      0.781222      0.092664      0.656834      0.000000      0.576729   \n\n      ...  landmark_16_y  landmark_17_x  landmark_17_y  landmark_18_x  \\\n0     ...       0.569519       1.000000       0.341575       0.901456   \n1     ...       0.523319       1.000000       0.327002       0.930577   \n2     ...       0.531100       1.000000       0.322988       0.933531   \n3     ...       0.522814       1.000000       0.326457       0.952533   \n4     ...       0.525957       1.000000       0.331646       0.981047   \n...   ...            ...            ...            ...            ...   \n1348  ...       0.049344       0.797603       0.543644       0.893632   \n1349  ...       0.049143       0.795290       0.550834       0.888136   \n1350  ...       0.045094       0.800436       0.544714       0.890485   \n1351  ...       0.039981       0.811817       0.539930       0.898076   \n1352  ...       0.035304       0.812430       0.543293       0.898266   \n\n      landmark_18_y  landmark_19_x  landmark_19_y  landmark_20_x  \\\n0          0.073152       0.844643       0.298391       0.872950   \n1          0.059235       0.860362       0.240066       0.863497   \n2          0.072292       0.881563       0.279809       0.880636   \n3          0.095421       0.918450       0.299627       0.903720   \n4          0.112615       0.958200       0.323332       0.942268   \n...             ...            ...            ...            ...   \n1348       0.402177       0.951917       0.307308       1.000000   \n1349       0.406464       0.948918       0.310156       1.000000   \n1350       0.399362       0.949566       0.302400       1.000000   \n1351       0.392461       0.953084       0.295359       1.000000   \n1352       0.395522       0.953355       0.296455       1.000000   \n\n      landmark_20_y  gesture_class  \n0          0.445402  clenched_fist  \n1          0.390219  clenched_fist  \n2          0.425184  clenched_fist  \n3          0.430349  clenched_fist  \n4          0.448841  clenched_fist  \n...             ...            ...  \n1348       0.215190      open_palm  \n1349       0.216706      open_palm  \n1350       0.209538      open_palm  \n1351       0.201736      open_palm  \n1352       0.199456      open_palm  \n\n[1353 rows x 43 columns]",
      "text/html": "<div>\n<style scoped>\n    .dataframe tbody tr th:only-of-type {\n        vertical-align: middle;\n    }\n\n    .dataframe tbody tr th {\n        vertical-align: top;\n    }\n\n    .dataframe thead th {\n        text-align: right;\n    }\n</style>\n<table border=\"1\" class=\"dataframe\">\n  <thead>\n    <tr style=\"text-align: right;\">\n      <th></th>\n      <th>landmark_0_x</th>\n      <th>landmark_0_y</th>\n      <th>landmark_1_x</th>\n      <th>landmark_1_y</th>\n      <th>landmark_2_x</th>\n      <th>landmark_2_y</th>\n      <th>landmark_3_x</th>\n      <th>landmark_3_y</th>\n      <th>landmark_4_x</th>\n      <th>landmark_4_y</th>\n      <th>...</th>\n      <th>landmark_16_y</th>\n      <th>landmark_17_x</th>\n      <th>landmark_17_y</th>\n      <th>landmark_18_x</th>\n      <th>landmark_18_y</th>\n      <th>landmark_19_x</th>\n      <th>landmark_19_y</th>\n      <th>landmark_20_x</th>\n      <th>landmark_20_y</th>\n      <th>gesture_class</th>\n    </tr>\n  </thead>\n  <tbody>\n    <tr>\n      <th>0</th>\n      <td>0.677321</td>\n      <td>1.0</td>\n      <td>0.351103</td>\n      <td>0.944758</td>\n      <td>0.065477</td>\n      <td>0.662819</td>\n      <td>0.000000</td>\n      <td>0.369198</td>\n      <td>0.173471</td>\n      <td>0.207245</td>\n      <td>...</td>\n      <td>0.569519</td>\n      <td>1.000000</td>\n      <td>0.341575</td>\n      <td>0.901456</td>\n      <td>0.073152</td>\n      <td>0.844643</td>\n      <td>0.298391</td>\n      <td>0.872950</td>\n      <td>0.445402</td>\n      <td>clenched_fist</td>\n    </tr>\n    <tr>\n      <th>1</th>\n      <td>0.714398</td>\n      <td>1.0</td>\n      <td>0.357280</td>\n      <td>0.879302</td>\n      <td>0.071006</td>\n      <td>0.622631</td>\n      <td>0.000000</td>\n      <td>0.343007</td>\n      <td>0.165565</td>\n      <td>0.192235</td>\n      <td>...</td>\n      <td>0.523319</td>\n      <td>1.000000</td>\n      <td>0.327002</td>\n      <td>0.930577</td>\n      <td>0.059235</td>\n      <td>0.860362</td>\n      <td>0.240066</td>\n      <td>0.863497</td>\n      <td>0.390219</td>\n      <td>clenched_fist</td>\n    </tr>\n    <tr>\n      <th>2</th>\n      <td>0.767247</td>\n      <td>1.0</td>\n      <td>0.386727</td>\n      <td>0.874574</td>\n      <td>0.079074</td>\n      <td>0.632229</td>\n      <td>0.000000</td>\n      <td>0.338501</td>\n      <td>0.168701</td>\n      <td>0.189050</td>\n      <td>...</td>\n      <td>0.531100</td>\n      <td>1.000000</td>\n      <td>0.322988</td>\n      <td>0.933531</td>\n      <td>0.072292</td>\n      <td>0.881563</td>\n      <td>0.279809</td>\n      <td>0.880636</td>\n      <td>0.425184</td>\n      <td>clenched_fist</td>\n    </tr>\n    <tr>\n      <th>3</th>\n      <td>0.803987</td>\n      <td>1.0</td>\n      <td>0.413708</td>\n      <td>0.879513</td>\n      <td>0.083829</td>\n      <td>0.624563</td>\n      <td>0.000000</td>\n      <td>0.319042</td>\n      <td>0.179483</td>\n      <td>0.174653</td>\n      <td>...</td>\n      <td>0.522814</td>\n      <td>1.000000</td>\n      <td>0.326457</td>\n      <td>0.952533</td>\n      <td>0.095421</td>\n      <td>0.918450</td>\n      <td>0.299627</td>\n      <td>0.903720</td>\n      <td>0.430349</td>\n      <td>clenched_fist</td>\n    </tr>\n    <tr>\n      <th>4</th>\n      <td>0.845072</td>\n      <td>1.0</td>\n      <td>0.435118</td>\n      <td>0.901601</td>\n      <td>0.088391</td>\n      <td>0.615791</td>\n      <td>0.000000</td>\n      <td>0.304183</td>\n      <td>0.182650</td>\n      <td>0.182214</td>\n      <td>...</td>\n      <td>0.525957</td>\n      <td>1.000000</td>\n      <td>0.331646</td>\n      <td>0.981047</td>\n      <td>0.112615</td>\n      <td>0.958200</td>\n      <td>0.323332</td>\n      <td>0.942268</td>\n      <td>0.448841</td>\n      <td>clenched_fist</td>\n    </tr>\n    <tr>\n      <th>...</th>\n      <td>...</td>\n      <td>...</td>\n      <td>...</td>\n      <td>...</td>\n      <td>...</td>\n      <td>...</td>\n      <td>...</td>\n      <td>...</td>\n      <td>...</td>\n      <td>...</td>\n      <td>...</td>\n      <td>...</td>\n      <td>...</td>\n      <td>...</td>\n      <td>...</td>\n      <td>...</td>\n      <td>...</td>\n      <td>...</td>\n      <td>...</td>\n      <td>...</td>\n      <td>...</td>\n    </tr>\n    <tr>\n      <th>1348</th>\n      <td>0.543008</td>\n      <td>1.0</td>\n      <td>0.284017</td>\n      <td>0.908507</td>\n      <td>0.114434</td>\n      <td>0.726866</td>\n      <td>0.053204</td>\n      <td>0.572635</td>\n      <td>0.000000</td>\n      <td>0.458258</td>\n      <td>...</td>\n      <td>0.049344</td>\n      <td>0.797603</td>\n      <td>0.543644</td>\n      <td>0.893632</td>\n      <td>0.402177</td>\n      <td>0.951917</td>\n      <td>0.307308</td>\n      <td>1.000000</td>\n      <td>0.215190</td>\n      <td>open_palm</td>\n    </tr>\n    <tr>\n      <th>1349</th>\n      <td>0.551161</td>\n      <td>1.0</td>\n      <td>0.303483</td>\n      <td>0.913989</td>\n      <td>0.133226</td>\n      <td>0.739051</td>\n      <td>0.058131</td>\n      <td>0.596164</td>\n      <td>0.000000</td>\n      <td>0.490040</td>\n      <td>...</td>\n      <td>0.049143</td>\n      <td>0.795290</td>\n      <td>0.550834</td>\n      <td>0.888136</td>\n      <td>0.406464</td>\n      <td>0.948918</td>\n      <td>0.310156</td>\n      <td>1.000000</td>\n      <td>0.216706</td>\n      <td>open_palm</td>\n    </tr>\n    <tr>\n      <th>1350</th>\n      <td>0.585967</td>\n      <td>1.0</td>\n      <td>0.346693</td>\n      <td>0.920043</td>\n      <td>0.171611</td>\n      <td>0.749378</td>\n      <td>0.083096</td>\n      <td>0.610847</td>\n      <td>0.000000</td>\n      <td>0.519467</td>\n      <td>...</td>\n      <td>0.045094</td>\n      <td>0.800436</td>\n      <td>0.544714</td>\n      <td>0.890485</td>\n      <td>0.399362</td>\n      <td>0.949566</td>\n      <td>0.302400</td>\n      <td>1.000000</td>\n      <td>0.209538</td>\n      <td>open_palm</td>\n    </tr>\n    <tr>\n      <th>1351</th>\n      <td>0.610128</td>\n      <td>1.0</td>\n      <td>0.370646</td>\n      <td>0.926402</td>\n      <td>0.188608</td>\n      <td>0.766931</td>\n      <td>0.088400</td>\n      <td>0.635963</td>\n      <td>0.000000</td>\n      <td>0.553666</td>\n      <td>...</td>\n      <td>0.039981</td>\n      <td>0.811817</td>\n      <td>0.539930</td>\n      <td>0.898076</td>\n      <td>0.392461</td>\n      <td>0.953084</td>\n      <td>0.295359</td>\n      <td>1.000000</td>\n      <td>0.201736</td>\n      <td>open_palm</td>\n    </tr>\n    <tr>\n      <th>1352</th>\n      <td>0.626822</td>\n      <td>1.0</td>\n      <td>0.385707</td>\n      <td>0.935697</td>\n      <td>0.199436</td>\n      <td>0.781222</td>\n      <td>0.092664</td>\n      <td>0.656834</td>\n      <td>0.000000</td>\n      <td>0.576729</td>\n      <td>...</td>\n      <td>0.035304</td>\n      <td>0.812430</td>\n      <td>0.543293</td>\n      <td>0.898266</td>\n      <td>0.395522</td>\n      <td>0.953355</td>\n      <td>0.296455</td>\n      <td>1.000000</td>\n      <td>0.199456</td>\n      <td>open_palm</td>\n    </tr>\n  </tbody>\n</table>\n<p>1353 rows × 43 columns</p>\n</div>"
     },
     "execution_count": 4,
     "metadata": {},
     "output_type": "execute_result"
    }
   ],
   "source": [
    "sample_size = min(df1.shape[0], df2.shape[0], df3.shape[0])\n",
    "df = pd.concat([df1.iloc[:sample_size], df2.iloc[:sample_size], df3.iloc[:sample_size]], ignore_index=True)\n",
    "df"
   ]
  },
  {
   "cell_type": "code",
   "execution_count": 5,
   "id": "83f93b54-ef44-4081-930e-7ab1520a3d86",
   "metadata": {
    "ExecuteTime": {
     "end_time": "2024-03-31T23:36:59.266722300Z",
     "start_time": "2024-03-31T23:36:59.250068200Z"
    }
   },
   "outputs": [
    {
     "data": {
      "text/plain": "      landmark_0_x  landmark_0_y  landmark_1_x  landmark_1_y  landmark_2_x  \\\n0         0.677321           1.0      0.351103      0.944758      0.065477   \n1         0.714398           1.0      0.357280      0.879302      0.071006   \n2         0.767247           1.0      0.386727      0.874574      0.079074   \n3         0.803987           1.0      0.413708      0.879513      0.083829   \n4         0.845072           1.0      0.435118      0.901601      0.088391   \n...            ...           ...           ...           ...           ...   \n1348      0.543008           1.0      0.284017      0.908507      0.114434   \n1349      0.551161           1.0      0.303483      0.913989      0.133226   \n1350      0.585967           1.0      0.346693      0.920043      0.171611   \n1351      0.610128           1.0      0.370646      0.926402      0.188608   \n1352      0.626822           1.0      0.385707      0.935697      0.199436   \n\n      landmark_2_y  landmark_3_x  landmark_3_y  landmark_4_x  landmark_4_y  \\\n0         0.662819      0.000000      0.369198      0.173471      0.207245   \n1         0.622631      0.000000      0.343007      0.165565      0.192235   \n2         0.632229      0.000000      0.338501      0.168701      0.189050   \n3         0.624563      0.000000      0.319042      0.179483      0.174653   \n4         0.615791      0.000000      0.304183      0.182650      0.182214   \n...            ...           ...           ...           ...           ...   \n1348      0.726866      0.053204      0.572635      0.000000      0.458258   \n1349      0.739051      0.058131      0.596164      0.000000      0.490040   \n1350      0.749378      0.083096      0.610847      0.000000      0.519467   \n1351      0.766931      0.088400      0.635963      0.000000      0.553666   \n1352      0.781222      0.092664      0.656834      0.000000      0.576729   \n\n      ...  landmark_16_y  landmark_17_x  landmark_17_y  landmark_18_x  \\\n0     ...       0.569519       1.000000       0.341575       0.901456   \n1     ...       0.523319       1.000000       0.327002       0.930577   \n2     ...       0.531100       1.000000       0.322988       0.933531   \n3     ...       0.522814       1.000000       0.326457       0.952533   \n4     ...       0.525957       1.000000       0.331646       0.981047   \n...   ...            ...            ...            ...            ...   \n1348  ...       0.049344       0.797603       0.543644       0.893632   \n1349  ...       0.049143       0.795290       0.550834       0.888136   \n1350  ...       0.045094       0.800436       0.544714       0.890485   \n1351  ...       0.039981       0.811817       0.539930       0.898076   \n1352  ...       0.035304       0.812430       0.543293       0.898266   \n\n      landmark_18_y  landmark_19_x  landmark_19_y  landmark_20_x  \\\n0          0.073152       0.844643       0.298391       0.872950   \n1          0.059235       0.860362       0.240066       0.863497   \n2          0.072292       0.881563       0.279809       0.880636   \n3          0.095421       0.918450       0.299627       0.903720   \n4          0.112615       0.958200       0.323332       0.942268   \n...             ...            ...            ...            ...   \n1348       0.402177       0.951917       0.307308       1.000000   \n1349       0.406464       0.948918       0.310156       1.000000   \n1350       0.399362       0.949566       0.302400       1.000000   \n1351       0.392461       0.953084       0.295359       1.000000   \n1352       0.395522       0.953355       0.296455       1.000000   \n\n      landmark_20_y  gesture_code  \n0          0.445402             0  \n1          0.390219             0  \n2          0.425184             0  \n3          0.430349             0  \n4          0.448841             0  \n...             ...           ...  \n1348       0.215190             2  \n1349       0.216706             2  \n1350       0.209538             2  \n1351       0.201736             2  \n1352       0.199456             2  \n\n[1353 rows x 43 columns]",
      "text/html": "<div>\n<style scoped>\n    .dataframe tbody tr th:only-of-type {\n        vertical-align: middle;\n    }\n\n    .dataframe tbody tr th {\n        vertical-align: top;\n    }\n\n    .dataframe thead th {\n        text-align: right;\n    }\n</style>\n<table border=\"1\" class=\"dataframe\">\n  <thead>\n    <tr style=\"text-align: right;\">\n      <th></th>\n      <th>landmark_0_x</th>\n      <th>landmark_0_y</th>\n      <th>landmark_1_x</th>\n      <th>landmark_1_y</th>\n      <th>landmark_2_x</th>\n      <th>landmark_2_y</th>\n      <th>landmark_3_x</th>\n      <th>landmark_3_y</th>\n      <th>landmark_4_x</th>\n      <th>landmark_4_y</th>\n      <th>...</th>\n      <th>landmark_16_y</th>\n      <th>landmark_17_x</th>\n      <th>landmark_17_y</th>\n      <th>landmark_18_x</th>\n      <th>landmark_18_y</th>\n      <th>landmark_19_x</th>\n      <th>landmark_19_y</th>\n      <th>landmark_20_x</th>\n      <th>landmark_20_y</th>\n      <th>gesture_code</th>\n    </tr>\n  </thead>\n  <tbody>\n    <tr>\n      <th>0</th>\n      <td>0.677321</td>\n      <td>1.0</td>\n      <td>0.351103</td>\n      <td>0.944758</td>\n      <td>0.065477</td>\n      <td>0.662819</td>\n      <td>0.000000</td>\n      <td>0.369198</td>\n      <td>0.173471</td>\n      <td>0.207245</td>\n      <td>...</td>\n      <td>0.569519</td>\n      <td>1.000000</td>\n      <td>0.341575</td>\n      <td>0.901456</td>\n      <td>0.073152</td>\n      <td>0.844643</td>\n      <td>0.298391</td>\n      <td>0.872950</td>\n      <td>0.445402</td>\n      <td>0</td>\n    </tr>\n    <tr>\n      <th>1</th>\n      <td>0.714398</td>\n      <td>1.0</td>\n      <td>0.357280</td>\n      <td>0.879302</td>\n      <td>0.071006</td>\n      <td>0.622631</td>\n      <td>0.000000</td>\n      <td>0.343007</td>\n      <td>0.165565</td>\n      <td>0.192235</td>\n      <td>...</td>\n      <td>0.523319</td>\n      <td>1.000000</td>\n      <td>0.327002</td>\n      <td>0.930577</td>\n      <td>0.059235</td>\n      <td>0.860362</td>\n      <td>0.240066</td>\n      <td>0.863497</td>\n      <td>0.390219</td>\n      <td>0</td>\n    </tr>\n    <tr>\n      <th>2</th>\n      <td>0.767247</td>\n      <td>1.0</td>\n      <td>0.386727</td>\n      <td>0.874574</td>\n      <td>0.079074</td>\n      <td>0.632229</td>\n      <td>0.000000</td>\n      <td>0.338501</td>\n      <td>0.168701</td>\n      <td>0.189050</td>\n      <td>...</td>\n      <td>0.531100</td>\n      <td>1.000000</td>\n      <td>0.322988</td>\n      <td>0.933531</td>\n      <td>0.072292</td>\n      <td>0.881563</td>\n      <td>0.279809</td>\n      <td>0.880636</td>\n      <td>0.425184</td>\n      <td>0</td>\n    </tr>\n    <tr>\n      <th>3</th>\n      <td>0.803987</td>\n      <td>1.0</td>\n      <td>0.413708</td>\n      <td>0.879513</td>\n      <td>0.083829</td>\n      <td>0.624563</td>\n      <td>0.000000</td>\n      <td>0.319042</td>\n      <td>0.179483</td>\n      <td>0.174653</td>\n      <td>...</td>\n      <td>0.522814</td>\n      <td>1.000000</td>\n      <td>0.326457</td>\n      <td>0.952533</td>\n      <td>0.095421</td>\n      <td>0.918450</td>\n      <td>0.299627</td>\n      <td>0.903720</td>\n      <td>0.430349</td>\n      <td>0</td>\n    </tr>\n    <tr>\n      <th>4</th>\n      <td>0.845072</td>\n      <td>1.0</td>\n      <td>0.435118</td>\n      <td>0.901601</td>\n      <td>0.088391</td>\n      <td>0.615791</td>\n      <td>0.000000</td>\n      <td>0.304183</td>\n      <td>0.182650</td>\n      <td>0.182214</td>\n      <td>...</td>\n      <td>0.525957</td>\n      <td>1.000000</td>\n      <td>0.331646</td>\n      <td>0.981047</td>\n      <td>0.112615</td>\n      <td>0.958200</td>\n      <td>0.323332</td>\n      <td>0.942268</td>\n      <td>0.448841</td>\n      <td>0</td>\n    </tr>\n    <tr>\n      <th>...</th>\n      <td>...</td>\n      <td>...</td>\n      <td>...</td>\n      <td>...</td>\n      <td>...</td>\n      <td>...</td>\n      <td>...</td>\n      <td>...</td>\n      <td>...</td>\n      <td>...</td>\n      <td>...</td>\n      <td>...</td>\n      <td>...</td>\n      <td>...</td>\n      <td>...</td>\n      <td>...</td>\n      <td>...</td>\n      <td>...</td>\n      <td>...</td>\n      <td>...</td>\n      <td>...</td>\n    </tr>\n    <tr>\n      <th>1348</th>\n      <td>0.543008</td>\n      <td>1.0</td>\n      <td>0.284017</td>\n      <td>0.908507</td>\n      <td>0.114434</td>\n      <td>0.726866</td>\n      <td>0.053204</td>\n      <td>0.572635</td>\n      <td>0.000000</td>\n      <td>0.458258</td>\n      <td>...</td>\n      <td>0.049344</td>\n      <td>0.797603</td>\n      <td>0.543644</td>\n      <td>0.893632</td>\n      <td>0.402177</td>\n      <td>0.951917</td>\n      <td>0.307308</td>\n      <td>1.000000</td>\n      <td>0.215190</td>\n      <td>2</td>\n    </tr>\n    <tr>\n      <th>1349</th>\n      <td>0.551161</td>\n      <td>1.0</td>\n      <td>0.303483</td>\n      <td>0.913989</td>\n      <td>0.133226</td>\n      <td>0.739051</td>\n      <td>0.058131</td>\n      <td>0.596164</td>\n      <td>0.000000</td>\n      <td>0.490040</td>\n      <td>...</td>\n      <td>0.049143</td>\n      <td>0.795290</td>\n      <td>0.550834</td>\n      <td>0.888136</td>\n      <td>0.406464</td>\n      <td>0.948918</td>\n      <td>0.310156</td>\n      <td>1.000000</td>\n      <td>0.216706</td>\n      <td>2</td>\n    </tr>\n    <tr>\n      <th>1350</th>\n      <td>0.585967</td>\n      <td>1.0</td>\n      <td>0.346693</td>\n      <td>0.920043</td>\n      <td>0.171611</td>\n      <td>0.749378</td>\n      <td>0.083096</td>\n      <td>0.610847</td>\n      <td>0.000000</td>\n      <td>0.519467</td>\n      <td>...</td>\n      <td>0.045094</td>\n      <td>0.800436</td>\n      <td>0.544714</td>\n      <td>0.890485</td>\n      <td>0.399362</td>\n      <td>0.949566</td>\n      <td>0.302400</td>\n      <td>1.000000</td>\n      <td>0.209538</td>\n      <td>2</td>\n    </tr>\n    <tr>\n      <th>1351</th>\n      <td>0.610128</td>\n      <td>1.0</td>\n      <td>0.370646</td>\n      <td>0.926402</td>\n      <td>0.188608</td>\n      <td>0.766931</td>\n      <td>0.088400</td>\n      <td>0.635963</td>\n      <td>0.000000</td>\n      <td>0.553666</td>\n      <td>...</td>\n      <td>0.039981</td>\n      <td>0.811817</td>\n      <td>0.539930</td>\n      <td>0.898076</td>\n      <td>0.392461</td>\n      <td>0.953084</td>\n      <td>0.295359</td>\n      <td>1.000000</td>\n      <td>0.201736</td>\n      <td>2</td>\n    </tr>\n    <tr>\n      <th>1352</th>\n      <td>0.626822</td>\n      <td>1.0</td>\n      <td>0.385707</td>\n      <td>0.935697</td>\n      <td>0.199436</td>\n      <td>0.781222</td>\n      <td>0.092664</td>\n      <td>0.656834</td>\n      <td>0.000000</td>\n      <td>0.576729</td>\n      <td>...</td>\n      <td>0.035304</td>\n      <td>0.812430</td>\n      <td>0.543293</td>\n      <td>0.898266</td>\n      <td>0.395522</td>\n      <td>0.953355</td>\n      <td>0.296455</td>\n      <td>1.000000</td>\n      <td>0.199456</td>\n      <td>2</td>\n    </tr>\n  </tbody>\n</table>\n<p>1353 rows × 43 columns</p>\n</div>"
     },
     "execution_count": 5,
     "metadata": {},
     "output_type": "execute_result"
    }
   ],
   "source": [
    "df['gesture_code'] = df['gesture_class'].map(STRING_TO_CODE)\n",
    "df.drop(columns=['gesture_class'], inplace=True)\n",
    "df"
   ]
  },
  {
   "cell_type": "code",
   "execution_count": 6,
   "id": "b35b037c-9f35-4ec6-98bd-430cd680a725",
   "metadata": {
    "ExecuteTime": {
     "end_time": "2024-03-31T23:36:59.294821100Z",
     "start_time": "2024-03-31T23:36:59.267720300Z"
    }
   },
   "outputs": [],
   "source": [
    "X, y = df.iloc[:, : -1], df.iloc[:, -1]\n",
    "X_train, X_test, y_train, y_test = train_test_split(X, y, train_size=0.85, stratify=y, shuffle=True)"
   ]
  },
  {
   "cell_type": "code",
   "execution_count": 7,
   "id": "be9b9024-7132-41ab-9d81-676cacf43600",
   "metadata": {
    "ExecuteTime": {
     "end_time": "2024-03-31T23:36:59.342639600Z",
     "start_time": "2024-03-31T23:36:59.272692500Z"
    }
   },
   "outputs": [
    {
     "data": {
      "text/plain": "      landmark_0_x  landmark_0_y  landmark_1_x  landmark_1_y  landmark_2_x  \\\n717       0.732440           1.0      0.338973      0.864033      0.087026   \n1061      0.898582           1.0      0.578215      0.949204      0.346792   \n14        0.820699           1.0      0.433834      0.910357      0.052685   \n976       0.751417           1.0      0.495760      0.950377      0.269705   \n630       0.626033           1.0      0.335960      0.878328      0.196365   \n...            ...           ...           ...           ...           ...   \n732       0.804527           1.0      0.376035      0.840578      0.109157   \n1241      1.000000           1.0      0.585015      0.972058      0.289276   \n936       0.720023           1.0      0.474844      0.938490      0.255734   \n371       0.992420           1.0      0.574655      0.996962      0.128261   \n319       1.000000           1.0      0.597842      0.935388      0.222591   \n\n      landmark_2_y  landmark_3_x  landmark_3_y  landmark_4_x  landmark_4_y  \\\n717       0.660433      0.000000      0.490478      0.218243      0.410232   \n1061      0.810844      0.209776      0.695631      0.000000      0.632127   \n14        0.650502      0.000000      0.310445      0.306610      0.153337   \n976       0.833498      0.118957      0.721154      0.000000      0.631730   \n630       0.684395      0.320243      0.500257      0.554898      0.381622   \n...            ...           ...           ...           ...           ...   \n732       0.652711      0.000000      0.493952      0.208035      0.398089   \n1241      0.844084      0.144069      0.741559      0.000000      0.688042   \n936       0.824747      0.105519      0.721944      0.000000      0.635237   \n371       0.723675      0.000000      0.312185      0.297488      0.175110   \n319       0.730920      0.000000      0.459398      0.129566      0.232870   \n\n      ...  landmark_16_x  landmark_16_y  landmark_17_x  landmark_17_y  \\\n717   ...       0.484350       0.644983       1.000000       0.526344   \n1061  ...       0.512289       0.082359       0.996342       0.556363   \n14    ...       0.688077       0.401551       0.922375       0.191958   \n976   ...       0.704350       0.045133       0.879561       0.532588   \n630   ...       0.618933       0.607813       0.939586       0.546530   \n...   ...            ...            ...            ...            ...   \n732   ...       0.501943       0.607924       1.000000       0.503959   \n1241  ...       0.679464       0.000000       0.954113       0.517513   \n936   ...       0.706538       0.047340       0.868184       0.539490   \n371   ...       0.730400       0.443379       1.000000       0.086914   \n319   ...       0.772580       0.518846       0.954826       0.177251   \n\n      landmark_18_x  landmark_18_y  landmark_19_x  landmark_19_y  \\\n717        0.584727       0.449728       0.482420       0.566804   \n1061       1.000000       0.429546       0.982468       0.353496   \n14         0.997782       0.040923       1.000000       0.259279   \n976        0.939642       0.379934       0.974369       0.279653   \n630        1.000000       0.437837       0.897944       0.550469   \n...             ...            ...            ...            ...   \n732        0.513817       0.407961       0.409045       0.531615   \n1241       0.973245       0.337654       0.956095       0.214895   \n936        0.926593       0.390655       0.965725       0.291015   \n371        0.802432       0.000000       0.855342       0.271160   \n319        0.740250       0.000000       0.796920       0.241533   \n\n      landmark_20_x  landmark_20_y  \n717        0.586317       0.641457  \n1061       0.967312       0.288788  \n14         0.926093       0.346878  \n976        1.000000       0.185810  \n630        0.837006       0.608296  \n...             ...            ...  \n732        0.538898       0.614051  \n1241       0.921815       0.098251  \n936        1.000000       0.200397  \n371        0.912824       0.322591  \n319        0.891285       0.378895  \n\n[1150 rows x 42 columns]",
      "text/html": "<div>\n<style scoped>\n    .dataframe tbody tr th:only-of-type {\n        vertical-align: middle;\n    }\n\n    .dataframe tbody tr th {\n        vertical-align: top;\n    }\n\n    .dataframe thead th {\n        text-align: right;\n    }\n</style>\n<table border=\"1\" class=\"dataframe\">\n  <thead>\n    <tr style=\"text-align: right;\">\n      <th></th>\n      <th>landmark_0_x</th>\n      <th>landmark_0_y</th>\n      <th>landmark_1_x</th>\n      <th>landmark_1_y</th>\n      <th>landmark_2_x</th>\n      <th>landmark_2_y</th>\n      <th>landmark_3_x</th>\n      <th>landmark_3_y</th>\n      <th>landmark_4_x</th>\n      <th>landmark_4_y</th>\n      <th>...</th>\n      <th>landmark_16_x</th>\n      <th>landmark_16_y</th>\n      <th>landmark_17_x</th>\n      <th>landmark_17_y</th>\n      <th>landmark_18_x</th>\n      <th>landmark_18_y</th>\n      <th>landmark_19_x</th>\n      <th>landmark_19_y</th>\n      <th>landmark_20_x</th>\n      <th>landmark_20_y</th>\n    </tr>\n  </thead>\n  <tbody>\n    <tr>\n      <th>717</th>\n      <td>0.732440</td>\n      <td>1.0</td>\n      <td>0.338973</td>\n      <td>0.864033</td>\n      <td>0.087026</td>\n      <td>0.660433</td>\n      <td>0.000000</td>\n      <td>0.490478</td>\n      <td>0.218243</td>\n      <td>0.410232</td>\n      <td>...</td>\n      <td>0.484350</td>\n      <td>0.644983</td>\n      <td>1.000000</td>\n      <td>0.526344</td>\n      <td>0.584727</td>\n      <td>0.449728</td>\n      <td>0.482420</td>\n      <td>0.566804</td>\n      <td>0.586317</td>\n      <td>0.641457</td>\n    </tr>\n    <tr>\n      <th>1061</th>\n      <td>0.898582</td>\n      <td>1.0</td>\n      <td>0.578215</td>\n      <td>0.949204</td>\n      <td>0.346792</td>\n      <td>0.810844</td>\n      <td>0.209776</td>\n      <td>0.695631</td>\n      <td>0.000000</td>\n      <td>0.632127</td>\n      <td>...</td>\n      <td>0.512289</td>\n      <td>0.082359</td>\n      <td>0.996342</td>\n      <td>0.556363</td>\n      <td>1.000000</td>\n      <td>0.429546</td>\n      <td>0.982468</td>\n      <td>0.353496</td>\n      <td>0.967312</td>\n      <td>0.288788</td>\n    </tr>\n    <tr>\n      <th>14</th>\n      <td>0.820699</td>\n      <td>1.0</td>\n      <td>0.433834</td>\n      <td>0.910357</td>\n      <td>0.052685</td>\n      <td>0.650502</td>\n      <td>0.000000</td>\n      <td>0.310445</td>\n      <td>0.306610</td>\n      <td>0.153337</td>\n      <td>...</td>\n      <td>0.688077</td>\n      <td>0.401551</td>\n      <td>0.922375</td>\n      <td>0.191958</td>\n      <td>0.997782</td>\n      <td>0.040923</td>\n      <td>1.000000</td>\n      <td>0.259279</td>\n      <td>0.926093</td>\n      <td>0.346878</td>\n    </tr>\n    <tr>\n      <th>976</th>\n      <td>0.751417</td>\n      <td>1.0</td>\n      <td>0.495760</td>\n      <td>0.950377</td>\n      <td>0.269705</td>\n      <td>0.833498</td>\n      <td>0.118957</td>\n      <td>0.721154</td>\n      <td>0.000000</td>\n      <td>0.631730</td>\n      <td>...</td>\n      <td>0.704350</td>\n      <td>0.045133</td>\n      <td>0.879561</td>\n      <td>0.532588</td>\n      <td>0.939642</td>\n      <td>0.379934</td>\n      <td>0.974369</td>\n      <td>0.279653</td>\n      <td>1.000000</td>\n      <td>0.185810</td>\n    </tr>\n    <tr>\n      <th>630</th>\n      <td>0.626033</td>\n      <td>1.0</td>\n      <td>0.335960</td>\n      <td>0.878328</td>\n      <td>0.196365</td>\n      <td>0.684395</td>\n      <td>0.320243</td>\n      <td>0.500257</td>\n      <td>0.554898</td>\n      <td>0.381622</td>\n      <td>...</td>\n      <td>0.618933</td>\n      <td>0.607813</td>\n      <td>0.939586</td>\n      <td>0.546530</td>\n      <td>1.000000</td>\n      <td>0.437837</td>\n      <td>0.897944</td>\n      <td>0.550469</td>\n      <td>0.837006</td>\n      <td>0.608296</td>\n    </tr>\n    <tr>\n      <th>...</th>\n      <td>...</td>\n      <td>...</td>\n      <td>...</td>\n      <td>...</td>\n      <td>...</td>\n      <td>...</td>\n      <td>...</td>\n      <td>...</td>\n      <td>...</td>\n      <td>...</td>\n      <td>...</td>\n      <td>...</td>\n      <td>...</td>\n      <td>...</td>\n      <td>...</td>\n      <td>...</td>\n      <td>...</td>\n      <td>...</td>\n      <td>...</td>\n      <td>...</td>\n      <td>...</td>\n    </tr>\n    <tr>\n      <th>732</th>\n      <td>0.804527</td>\n      <td>1.0</td>\n      <td>0.376035</td>\n      <td>0.840578</td>\n      <td>0.109157</td>\n      <td>0.652711</td>\n      <td>0.000000</td>\n      <td>0.493952</td>\n      <td>0.208035</td>\n      <td>0.398089</td>\n      <td>...</td>\n      <td>0.501943</td>\n      <td>0.607924</td>\n      <td>1.000000</td>\n      <td>0.503959</td>\n      <td>0.513817</td>\n      <td>0.407961</td>\n      <td>0.409045</td>\n      <td>0.531615</td>\n      <td>0.538898</td>\n      <td>0.614051</td>\n    </tr>\n    <tr>\n      <th>1241</th>\n      <td>1.000000</td>\n      <td>1.0</td>\n      <td>0.585015</td>\n      <td>0.972058</td>\n      <td>0.289276</td>\n      <td>0.844084</td>\n      <td>0.144069</td>\n      <td>0.741559</td>\n      <td>0.000000</td>\n      <td>0.688042</td>\n      <td>...</td>\n      <td>0.679464</td>\n      <td>0.000000</td>\n      <td>0.954113</td>\n      <td>0.517513</td>\n      <td>0.973245</td>\n      <td>0.337654</td>\n      <td>0.956095</td>\n      <td>0.214895</td>\n      <td>0.921815</td>\n      <td>0.098251</td>\n    </tr>\n    <tr>\n      <th>936</th>\n      <td>0.720023</td>\n      <td>1.0</td>\n      <td>0.474844</td>\n      <td>0.938490</td>\n      <td>0.255734</td>\n      <td>0.824747</td>\n      <td>0.105519</td>\n      <td>0.721944</td>\n      <td>0.000000</td>\n      <td>0.635237</td>\n      <td>...</td>\n      <td>0.706538</td>\n      <td>0.047340</td>\n      <td>0.868184</td>\n      <td>0.539490</td>\n      <td>0.926593</td>\n      <td>0.390655</td>\n      <td>0.965725</td>\n      <td>0.291015</td>\n      <td>1.000000</td>\n      <td>0.200397</td>\n    </tr>\n    <tr>\n      <th>371</th>\n      <td>0.992420</td>\n      <td>1.0</td>\n      <td>0.574655</td>\n      <td>0.996962</td>\n      <td>0.128261</td>\n      <td>0.723675</td>\n      <td>0.000000</td>\n      <td>0.312185</td>\n      <td>0.297488</td>\n      <td>0.175110</td>\n      <td>...</td>\n      <td>0.730400</td>\n      <td>0.443379</td>\n      <td>1.000000</td>\n      <td>0.086914</td>\n      <td>0.802432</td>\n      <td>0.000000</td>\n      <td>0.855342</td>\n      <td>0.271160</td>\n      <td>0.912824</td>\n      <td>0.322591</td>\n    </tr>\n    <tr>\n      <th>319</th>\n      <td>1.000000</td>\n      <td>1.0</td>\n      <td>0.597842</td>\n      <td>0.935388</td>\n      <td>0.222591</td>\n      <td>0.730920</td>\n      <td>0.000000</td>\n      <td>0.459398</td>\n      <td>0.129566</td>\n      <td>0.232870</td>\n      <td>...</td>\n      <td>0.772580</td>\n      <td>0.518846</td>\n      <td>0.954826</td>\n      <td>0.177251</td>\n      <td>0.740250</td>\n      <td>0.000000</td>\n      <td>0.796920</td>\n      <td>0.241533</td>\n      <td>0.891285</td>\n      <td>0.378895</td>\n    </tr>\n  </tbody>\n</table>\n<p>1150 rows × 42 columns</p>\n</div>"
     },
     "execution_count": 7,
     "metadata": {},
     "output_type": "execute_result"
    }
   ],
   "source": [
    "X_train"
   ]
  },
  {
   "cell_type": "code",
   "execution_count": 8,
   "id": "be3bf652-0de5-4c8a-aaa8-9a464e715d23",
   "metadata": {
    "ExecuteTime": {
     "end_time": "2024-03-31T23:36:59.403477600Z",
     "start_time": "2024-03-31T23:36:59.288837500Z"
    }
   },
   "outputs": [
    {
     "data": {
      "text/plain": "device(type='cuda')"
     },
     "execution_count": 8,
     "metadata": {},
     "output_type": "execute_result"
    }
   ],
   "source": [
    "device = torch.device(\"cuda\" if torch.cuda.is_available() else \"cpu\")\n",
    "device"
   ]
  },
  {
   "cell_type": "code",
   "execution_count": 9,
   "id": "94c932c2-8988-468b-9b06-3436286708b2",
   "metadata": {
    "ExecuteTime": {
     "end_time": "2024-03-31T23:37:01.239740600Z",
     "start_time": "2024-03-31T23:36:59.316710Z"
    }
   },
   "outputs": [],
   "source": [
    "X_train_torch = torch.Tensor(X_train.to_numpy()).type(torch.float).to(device)\n",
    "X_test_torch = torch.Tensor(X_test.to_numpy()).type(torch.float).to(device)\n",
    "y_train_torch = torch.Tensor(y_train.to_numpy()).type(torch.uint8).to(device)\n",
    "y_test_torch = torch.Tensor(y_test.to_numpy()).type(torch.uint8).to(device)"
   ]
  },
  {
   "cell_type": "code",
   "execution_count": 10,
   "id": "f619d294-4ad5-4fee-a2cf-bf12a7e8406b",
   "metadata": {
    "ExecuteTime": {
     "end_time": "2024-03-31T23:37:02.836332500Z",
     "start_time": "2024-03-31T23:37:01.242784900Z"
    }
   },
   "outputs": [
    {
     "name": "stdout",
     "output_type": "stream",
     "text": [
      "epoch = 1/200\n",
      "loss = 1.099\n",
      "accuracy = 33.498\n",
      "\n",
      "epoch = 11/200\n",
      "loss = 1.042\n",
      "accuracy = 92.611\n",
      "\n",
      "epoch = 21/200\n",
      "loss = 0.954\n",
      "accuracy = 94.089\n",
      "\n",
      "epoch = 31/200\n",
      "loss = 0.852\n",
      "accuracy = 95.074\n",
      "\n",
      "epoch = 41/200\n",
      "loss = 0.761\n",
      "accuracy = 96.552\n",
      "\n",
      "epoch = 51/200\n",
      "loss = 0.688\n",
      "accuracy = 98.030\n",
      "\n",
      "epoch = 61/200\n",
      "loss = 0.639\n",
      "accuracy = 99.015\n",
      "\n",
      "epoch = 71/200\n",
      "loss = 0.609\n",
      "accuracy = 100.000\n",
      "\n",
      "epoch = 81/200\n",
      "loss = 0.592\n",
      "accuracy = 100.000\n",
      "\n",
      "epoch = 91/200\n",
      "loss = 0.581\n",
      "accuracy = 100.000\n",
      "\n",
      "epoch = 101/200\n",
      "loss = 0.574\n",
      "accuracy = 100.000\n",
      "\n",
      "epoch = 111/200\n",
      "loss = 0.570\n",
      "accuracy = 100.000\n",
      "\n",
      "epoch = 121/200\n",
      "loss = 0.566\n",
      "accuracy = 100.000\n",
      "\n",
      "epoch = 131/200\n",
      "loss = 0.564\n",
      "accuracy = 100.000\n",
      "\n",
      "epoch = 141/200\n",
      "loss = 0.562\n",
      "accuracy = 100.000\n",
      "\n",
      "epoch = 151/200\n",
      "loss = 0.560\n",
      "accuracy = 100.000\n",
      "\n",
      "epoch = 161/200\n",
      "loss = 0.559\n",
      "accuracy = 100.000\n",
      "\n",
      "epoch = 171/200\n",
      "loss = 0.558\n",
      "accuracy = 100.000\n",
      "\n",
      "epoch = 181/200\n",
      "loss = 0.558\n",
      "accuracy = 100.000\n",
      "\n",
      "epoch = 191/200\n",
      "loss = 0.557\n",
      "accuracy = 100.000\n"
     ]
    }
   ],
   "source": [
    "epochs = 200\n",
    "learning_rate = 0.005\n",
    "model = Model(42, 20, 3).to(device)\n",
    "criterion = nn.CrossEntropyLoss()\n",
    "optimizer = torch.optim.Adam(model.parameters(), lr=learning_rate)\n",
    "\n",
    "for i in range(epochs):\n",
    "    pred = model(X_train_torch)\n",
    "    loss = criterion(pred, y_train_torch)\n",
    "\n",
    "    optimizer.zero_grad()\n",
    "    loss.backward()\n",
    "    optimizer.step()\n",
    "    if (i % 10 == 0):\n",
    "        with torch.no_grad():\n",
    "            pred = model(X_test_torch)\n",
    "            pred = torch.argmax(pred, dim=1)\n",
    "            acc = ((pred == y_test_torch).sum().item() / y_test_torch.shape[0]) * 100\n",
    "            print(f'epoch = {i + 1}/{epochs}')\n",
    "            print(f'loss = {loss.item():.3f}')\n",
    "            print(f'accuracy = {acc:.3f}', end=2 * '\\n')"
   ]
  },
  {
   "cell_type": "code",
   "execution_count": 11,
   "id": "00e20ea2-a765-412d-9b2f-8b95f3b5fe0e",
   "metadata": {
    "ExecuteTime": {
     "end_time": "2024-03-31T23:37:02.836332500Z",
     "start_time": "2024-03-31T23:37:02.828848800Z"
    }
   },
   "outputs": [],
   "source": [
    "# save model\n",
    "FILE_PATH = 'models/hand_gesture_model.pth'\n",
    "torch.save(model.state_dict(), FILE_PATH)"
   ]
  }
 ],
 "metadata": {
  "kernelspec": {
   "display_name": "Python 3 (ipykernel)",
   "language": "python",
   "name": "python3"
  },
  "language_info": {
   "codemirror_mode": {
    "name": "ipython",
    "version": 3
   },
   "file_extension": ".py",
   "mimetype": "text/x-python",
   "name": "python",
   "nbconvert_exporter": "python",
   "pygments_lexer": "ipython3",
   "version": "3.11.5"
  }
 },
 "nbformat": 4,
 "nbformat_minor": 5
}
