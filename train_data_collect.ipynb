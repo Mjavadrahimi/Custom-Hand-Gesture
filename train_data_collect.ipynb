{
 "cells": [
  {
   "cell_type": "code",
   "execution_count": 1,
   "id": "f984f47d-672d-4eab-b663-ce23b2069a8f",
   "metadata": {},
   "outputs": [],
   "source": [
    "import cv2 as cv\n",
    "import mediapipe as mp\n",
    "import pandas as pd"
   ]
  },
  {
   "cell_type": "code",
   "execution_count": 2,
   "id": "d6ef3cf8-93b9-480c-ad3c-0327d8d8fd73",
   "metadata": {},
   "outputs": [],
   "source": [
    "def landmark_bbox(hand_landmarks, height, width) -> float :\n",
    "    x_min, y_min = width, height\n",
    "    x_max, y_max = 0, 0\n",
    "\n",
    "    for landmark in hand_landmarks.landmark:\n",
    "        x, y = landmark.x * width, landmark.y * height\n",
    "\n",
    "        x_min = min(x_min, x)\n",
    "        y_min = min(y_min, y)\n",
    "        x_max = max(x_max, x)\n",
    "        y_max = max(y_max, y)\n",
    "    return x_min, y_min, x_max, y_max"
   ]
  },
  {
   "cell_type": "code",
   "execution_count": 3,
   "id": "97059d00-e57e-4db3-b921-8801942f4a51",
   "metadata": {},
   "outputs": [],
   "source": [
    "def normalized_landmarks(hand_landmarks, bbox, height, width) -> float:\n",
    "    x_min, y_min, x_max, y_max = bbox\n",
    "    bbox_W, bbox_H = (x_max - x_min), (y_max - y_min)\n",
    "    normalized_landmarks = []\n",
    "    for landmark in hand_landmarks.landmark:\n",
    "        x = (landmark.x * width - x_min) / bbox_W\n",
    "        y = (landmark.y * height - y_min) / bbox_H\n",
    "        normalized_landmarks.append((x, y))\n",
    "\n",
    "    return normalized_landmarks"
   ]
  },
  {
   "cell_type": "code",
   "execution_count": 4,
   "id": "9a6c408a-3709-4a36-afcd-735ab9534bf9",
   "metadata": {},
   "outputs": [],
   "source": [
    "def save_landmarks(landmarks):\n",
    "    df = pd.DataFrame()\n",
    "    for landmark in landmarks:\n",
    "        df_dic = {}\n",
    "        for i in range(21):\n",
    "            for j in [(0, 'x'), (1, 'y')]:\n",
    "                column_name = 'landmark_' + str(i) + '_' + j[1]\n",
    "                df_dic[column_name] = landmark[i][j[0]]\n",
    "                \n",
    "        temp_df = pd.DataFrame(df_dic, index=[0])\n",
    "        df = pd.concat([df,temp_df], ignore_index=True, axis=0)\n",
    "    return df"
   ]
  },
  {
   "cell_type": "code",
   "execution_count": 5,
   "id": "fed29a69-dc83-450c-8b7a-20f1d0a46b06",
   "metadata": {},
   "outputs": [],
   "source": [
    "def collect(PATH):\n",
    "    video = cv.VideoCapture(PATH)\n",
    "    total_frames = int(video.get(cv.CAP_PROP_FRAME_COUNT))\n",
    "    mp_hands = mp.solutions.hands\n",
    "    hands = mp_hands.Hands(min_detection_confidence=0.5, min_tracking_confidence=0.5)\n",
    "    \n",
    "    Trail = []\n",
    "    posotions = []\n",
    "    i = 0\n",
    "    while(video.isOpened()):\n",
    "        ret, frame = video.read()\n",
    "        if ret == True:\n",
    "            frame_rgb = cv.cvtColor(frame, cv.COLOR_BGR2RGB)\n",
    "            results = hands.process(frame_rgb)\n",
    "            H, W, _ = frame.shape\n",
    "            if results.multi_hand_landmarks:\n",
    "                for hand_landmarks in results.multi_hand_landmarks:\n",
    "                    bbox = landmark_bbox(hand_landmarks, H, W)\n",
    "                    posotion = normalized_landmarks(hand_landmarks, bbox, H, W)\n",
    "                    posotions.append(posotion)\n",
    "            if cv.waitKey(25) & 0xFF == ord('q'):\n",
    "                  break\n",
    "            if(i%100 == 0):\n",
    "                print(f'frame : {i} / {total_frames}')\n",
    "            i += 1 \n",
    "        else:\n",
    "            break\n",
    "    print(f'frame : {i} / {total_frames}')\n",
    "    video.release()\n",
    "    cv.destroyAllWindows()\n",
    "    return posotions"
   ]
  },
  {
   "cell_type": "code",
   "execution_count": 6,
   "id": "ca2277c7-d60b-4838-b07a-50f463ecc39d",
   "metadata": {},
   "outputs": [
    {
     "name": "stdout",
     "output_type": "stream",
     "text": [
      "---------- data/videos/index_finger_up.mp4 ----------\n",
      "frame : 0 / 1186\n",
      "frame : 100 / 1186\n",
      "frame : 200 / 1186\n",
      "frame : 300 / 1186\n",
      "frame : 400 / 1186\n",
      "frame : 500 / 1186\n",
      "frame : 600 / 1186\n",
      "frame : 700 / 1186\n",
      "frame : 800 / 1186\n",
      "frame : 900 / 1186\n",
      "frame : 1000 / 1186\n",
      "frame : 1100 / 1186\n",
      "frame : 1186 / 1186\n",
      "---------- data/videos/clenched_fist.mp4 ----------\n",
      "frame : 0 / 451\n",
      "frame : 100 / 451\n",
      "frame : 200 / 451\n",
      "frame : 300 / 451\n",
      "frame : 400 / 451\n",
      "frame : 451 / 451\n",
      "---------- data/videos/open_palm.mp4 ----------\n",
      "frame : 0 / 609\n",
      "frame : 100 / 609\n",
      "frame : 200 / 609\n",
      "frame : 300 / 609\n",
      "frame : 400 / 609\n",
      "frame : 500 / 609\n",
      "frame : 600 / 609\n",
      "frame : 609 / 609\n"
     ]
    }
   ],
   "source": [
    "PATH_NAMES = (\n",
    "    ('data/videos/index_finger_up.mp4', 'data/dataframes/index_finger_up.csv'),\n",
    "    ('data/videos/clenched_fist.mp4', 'data/dataframes/clenched_fist.csv'),\n",
    "    ('data/videos/open_palm.mp4', 'data/dataframes/open_palm.csv'),\n",
    ")\n",
    "for path_name in PATH_NAMES:\n",
    "    print('-'*10, path_name[0], '-'*10)\n",
    "    posotions = collect(path_name[0])\n",
    "    df = save_landmarks(posotions)\n",
    "    df.to_csv(path_name[1], index=False)"
   ]
  }
 ],
 "metadata": {
  "kernelspec": {
   "display_name": "Python 3 (ipykernel)",
   "language": "python",
   "name": "python3"
  },
  "language_info": {
   "codemirror_mode": {
    "name": "ipython",
    "version": 3
   },
   "file_extension": ".py",
   "mimetype": "text/x-python",
   "name": "python",
   "nbconvert_exporter": "python",
   "pygments_lexer": "ipython3",
   "version": "3.11.5"
  }
 },
 "nbformat": 4,
 "nbformat_minor": 5
}
