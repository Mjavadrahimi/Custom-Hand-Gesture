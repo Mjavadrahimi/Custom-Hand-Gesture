{
 "cells": [
  {
   "cell_type": "code",
   "execution_count": 1,
   "id": "8c8c0dfb-9498-47d0-a37f-4bd02e974455",
   "metadata": {},
   "outputs": [],
   "source": [
    "import cv2 as cv\n",
    "import mediapipe as mp\n",
    "from models.hand_gesture import HandGesture\n",
    "from models.hand_gesture import normalized_landmarks, landmark_bbox"
   ]
  },
  {
   "cell_type": "code",
   "execution_count": 2,
   "id": "6059c00f-5776-4446-abfa-7664685f6d65",
   "metadata": {
    "ExecuteTime": {
     "end_time": "2024-03-31T23:53:06.371822300Z",
     "start_time": "2024-03-31T23:53:06.366799100Z"
    }
   },
   "outputs": [],
   "source": [
    "PATH = 'data/videos/test.mp4'\n",
    "PATH_GESTURE_MODEL = 'models/hand_gesture_model.pth'"
   ]
  },
  {
   "cell_type": "code",
   "execution_count": 6,
   "id": "04e058f7-5c14-45c1-87da-32e43cdb5a40",
   "metadata": {
    "ExecuteTime": {
     "end_time": "2024-03-31T23:57:04.489728600Z",
     "start_time": "2024-03-31T23:55:30.800354300Z"
    }
   },
   "outputs": [],
   "source": [
    "video = cv.VideoCapture(PATH)\n",
    "\n",
    "mp_hands = mp.solutions.hands\n",
    "mp_drawing = mp.solutions.drawing_utils\n",
    "mp_drawing_styles = mp.solutions.drawing_styles\n",
    "hands = mp_hands.Hands(min_detection_confidence=0.5, min_tracking_confidence=0.5)\n",
    "\n",
    "Trail = []\n",
    "my_gesture = HandGesture(PATH_GESTURE_MODEL)\n",
    "while video.isOpened():\n",
    "    ret, frame = video.read()\n",
    "    if ret:\n",
    "        frame_rgb = cv.cvtColor(frame, cv.COLOR_BGR2RGB)\n",
    "        results = hands.process(frame_rgb)\n",
    "        H, W, _ = frame.shape\n",
    "        if results.multi_hand_landmarks:\n",
    "            for hand_landmarks in results.multi_hand_landmarks:\n",
    "                position = normalized_landmarks(hand_landmarks, H, W)\n",
    "                pred = my_gesture.predict(position).replace('_',' ')\n",
    "                if pred == 'index finger up':\n",
    "                    index_finger = hand_landmarks.landmark[mp_hands.HandLandmark.INDEX_FINGER_TIP]\n",
    "                    cx, cy = int(index_finger.x * W), int(index_finger.y * H)\n",
    "                    Trail.append((cx, cy))\n",
    "                    \n",
    "                x1, y1, x2, y2 = landmark_bbox(hand_landmarks, H, W)\n",
    "                cv.rectangle(frame, (int(x1), int(y1)), (int(x2), int(y2)), (0, 0, 0), 4)\n",
    "                cv.putText(frame, pred, (int(x1), int(y1)), cv.FONT_HERSHEY_SIMPLEX, 1.3, (0, 0, 0), 3, cv.LINE_AA)\n",
    "\n",
    "                # mp_drawing.draw_landmarks(\n",
    "                # frame,\n",
    "                # hand_landmarks,\n",
    "                # mp_hands.HAND_CONNECTIONS,  \n",
    "                # mp_drawing_styles.get_default_hand_landmarks_style(),\n",
    "                # mp_drawing_styles.get_default_hand_connections_style())\n",
    "\n",
    "        for i in Trail:\n",
    "            cv.circle(frame, i, 10, (0, 255, 0), cv.FILLED)\n",
    "        cv.imshow('frame', frame)\n",
    "\n",
    "        if cv.waitKey(25) & 0xFF == ord('q'):\n",
    "            break\n",
    "    else:\n",
    "        break\n",
    "video.release()\n",
    "cv.destroyAllWindows()"
   ]
  }
 ],
 "metadata": {
  "kernelspec": {
   "display_name": "Python 3 (ipykernel)",
   "language": "python",
   "name": "python3"
  },
  "language_info": {
   "codemirror_mode": {
    "name": "ipython",
    "version": 3
   },
   "file_extension": ".py",
   "mimetype": "text/x-python",
   "name": "python",
   "nbconvert_exporter": "python",
   "pygments_lexer": "ipython3",
   "version": "3.11.5"
  }
 },
 "nbformat": 4,
 "nbformat_minor": 5
}
