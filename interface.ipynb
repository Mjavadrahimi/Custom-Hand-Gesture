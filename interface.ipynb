{
 "cells": [
  {
   "cell_type": "code",
   "execution_count": 1,
   "id": "8c8c0dfb-9498-47d0-a37f-4bd02e974455",
   "metadata": {},
   "outputs": [],
   "source": [
    "import cv2 as cv\n",
    "import mediapipe as mp"
   ]
  },
  {
   "cell_type": "code",
   "execution_count": 2,
   "id": "53a8a9ab-3f9d-42c0-b9a6-92f386689864",
   "metadata": {},
   "outputs": [],
   "source": [
    "def landmark_bbox(hand_landmarks, height, width) -> float :\n",
    "    x_min, y_min = width, height\n",
    "    x_max, y_max = 0, 0\n",
    "\n",
    "    for landmark in hand_landmarks.landmark:\n",
    "        x, y = landmark.x * width, landmark.y * height\n",
    "\n",
    "        x_min = min(x_min, x)\n",
    "        y_min = min(y_min, y)\n",
    "        x_max = max(x_max, x)\n",
    "        y_max = max(y_max, y)\n",
    "    return x_min, y_min, x_max, y_max"
   ]
  },
  {
   "cell_type": "code",
   "execution_count": 3,
   "id": "07ecead7-1bca-420b-a143-c5b7fb3c57f3",
   "metadata": {},
   "outputs": [],
   "source": [
    "def normalized_landmarks(hand_landmarks, bbox, height, width) -> float:\n",
    "    x_min, y_min, x_max, y_max = bbox\n",
    "    bbox_W, bbox_H = (x_max - x_min), (y_max - y_min)\n",
    "    normalized_landmarks = []\n",
    "    for landmark in hand_landmarks.landmark:\n",
    "        x = (landmark.x * width - x_min) / bbox_W\n",
    "        y = (landmark.y * height - y_min) / bbox_H\n",
    "        normalized_landmarks.append((x, y))\n",
    "\n",
    "    return normalized_landmarks"
   ]
  },
  {
   "cell_type": "code",
   "execution_count": 4,
   "id": "6059c00f-5776-4446-abfa-7664685f6d65",
   "metadata": {},
   "outputs": [],
   "source": [
    "PATH = 'data/videos/hand_shake.mp4'"
   ]
  },
  {
   "cell_type": "code",
   "execution_count": 5,
   "id": "04e058f7-5c14-45c1-87da-32e43cdb5a40",
   "metadata": {},
   "outputs": [],
   "source": [
    "video = cv.VideoCapture(PATH)\n",
    "\n",
    "hands = mp.solutions.hands.Hands()\n",
    "mp_hands = mp.solutions.hands\n",
    "mp_drawing = mp.solutions.drawing_utils\n",
    "mp_drawing_styles = mp.solutions.drawing_styles\n",
    "\n",
    "hands = mp_hands.Hands(min_detection_confidence=0.5, min_tracking_confidence=0.5)\n",
    "\n",
    "Trail = []\n",
    "while(video.isOpened()):\n",
    "    ret, frame = video.read()\n",
    "    if ret == True:\n",
    "    \n",
    "        frame_rgb = cv.cvtColor(frame, cv.COLOR_BGR2RGB)\n",
    "        results = hands.process(frame_rgb)\n",
    "        H, W, _ = frame.shape\n",
    "        if results.multi_hand_landmarks:\n",
    "            for hand_landmarks in results.multi_hand_landmarks:\n",
    "                index_finger = hand_landmarks.landmark[mp_hands.HandLandmark.INDEX_FINGER_TIP]\n",
    "                height, width, _ = frame.shape\n",
    "                cx, cy = int(index_finger.x * width), int(index_finger.y * height)\n",
    "                Trail.append((cx, cy))\n",
    "                bbox = landmark_bbox(hand_landmarks, H, W)\n",
    "                posotion = normalized_landmarks(hand_landmarks, bbox, H, W)\n",
    "                # print(posotion)\n",
    "                \n",
    "                # mp_drawing.draw_landmarks(\n",
    "                # frame,\n",
    "                # hand_landmarks,\n",
    "                # mp_hands.HAND_CONNECTIONS,  \n",
    "                # mp_drawing_styles.get_default_hand_landmarks_style(),\n",
    "                # mp_drawing_styles.get_default_hand_connections_style())\n",
    "                \n",
    "                \n",
    "        for i in Trail:\n",
    "            cv.circle(frame, i, 10, (0, 255, 0), cv.FILLED)\n",
    "        cv.imshow('frame', frame)\n",
    "        \n",
    "        if cv.waitKey(25) & 0xFF == ord('q'):\n",
    "              break\n",
    "    else: \n",
    "        break\n",
    "video.release()\n",
    "cv.destroyAllWindows()"
   ]
  }
 ],
 "metadata": {
  "kernelspec": {
   "display_name": "Python 3 (ipykernel)",
   "language": "python",
   "name": "python3"
  },
  "language_info": {
   "codemirror_mode": {
    "name": "ipython",
    "version": 3
   },
   "file_extension": ".py",
   "mimetype": "text/x-python",
   "name": "python",
   "nbconvert_exporter": "python",
   "pygments_lexer": "ipython3",
   "version": "3.11.5"
  }
 },
 "nbformat": 4,
 "nbformat_minor": 5
}
